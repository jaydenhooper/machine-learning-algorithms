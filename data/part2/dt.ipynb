{
 "cells": [
  {
   "attachments": {},
   "cell_type": "markdown",
   "metadata": {},
   "source": [
    "# Decision Tree"
   ]
  },
  {
   "attachments": {},
   "cell_type": "markdown",
   "metadata": {},
   "source": [
    "## Imports"
   ]
  },
  {
   "cell_type": "code",
   "execution_count": 48,
   "metadata": {},
   "outputs": [],
   "source": [
    "import pandas as pd\n",
    "import numpy as np\n",
    "import matplotlib.pyplot as plt\n",
    "from scipy import stats"
   ]
  },
  {
   "attachments": {},
   "cell_type": "markdown",
   "metadata": {},
   "source": [
    "## Loading Data"
   ]
  },
  {
   "cell_type": "code",
   "execution_count": 49,
   "metadata": {},
   "outputs": [
    {
     "data": {
      "text/html": [
       "<div>\n",
       "<style scoped>\n",
       "    .dataframe tbody tr th:only-of-type {\n",
       "        vertical-align: middle;\n",
       "    }\n",
       "\n",
       "    .dataframe tbody tr th {\n",
       "        vertical-align: top;\n",
       "    }\n",
       "\n",
       "    .dataframe thead th {\n",
       "        text-align: right;\n",
       "    }\n",
       "</style>\n",
       "<table border=\"1\" class=\"dataframe\">\n",
       "  <thead>\n",
       "    <tr style=\"text-align: right;\">\n",
       "      <th></th>\n",
       "      <th>Class</th>\n",
       "      <th>AGE</th>\n",
       "      <th>FEMALE</th>\n",
       "      <th>STEROID</th>\n",
       "      <th>ANTIVIRALS</th>\n",
       "      <th>FATIGUE</th>\n",
       "      <th>MALAISE</th>\n",
       "      <th>ANOREXIA</th>\n",
       "      <th>BIGLIVER</th>\n",
       "      <th>FIRMLIVER</th>\n",
       "      <th>SPLEENPALPABLE</th>\n",
       "      <th>SPIDERS</th>\n",
       "      <th>ASCITES</th>\n",
       "      <th>VARICES</th>\n",
       "      <th>BILIRUBIN</th>\n",
       "      <th>SGOT</th>\n",
       "      <th>HISTOLOGY</th>\n",
       "    </tr>\n",
       "  </thead>\n",
       "  <tbody>\n",
       "    <tr>\n",
       "      <th>0</th>\n",
       "      <td>live</td>\n",
       "      <td>False</td>\n",
       "      <td>False</td>\n",
       "      <td>True</td>\n",
       "      <td>True</td>\n",
       "      <td>False</td>\n",
       "      <td>False</td>\n",
       "      <td>False</td>\n",
       "      <td>False</td>\n",
       "      <td>False</td>\n",
       "      <td>False</td>\n",
       "      <td>False</td>\n",
       "      <td>True</td>\n",
       "      <td>True</td>\n",
       "      <td>True</td>\n",
       "      <td>False</td>\n",
       "      <td>False</td>\n",
       "    </tr>\n",
       "    <tr>\n",
       "      <th>1</th>\n",
       "      <td>live</td>\n",
       "      <td>True</td>\n",
       "      <td>False</td>\n",
       "      <td>False</td>\n",
       "      <td>True</td>\n",
       "      <td>False</td>\n",
       "      <td>True</td>\n",
       "      <td>True</td>\n",
       "      <td>False</td>\n",
       "      <td>False</td>\n",
       "      <td>True</td>\n",
       "      <td>True</td>\n",
       "      <td>True</td>\n",
       "      <td>True</td>\n",
       "      <td>True</td>\n",
       "      <td>False</td>\n",
       "      <td>False</td>\n",
       "    </tr>\n",
       "  </tbody>\n",
       "</table>\n",
       "</div>"
      ],
      "text/plain": [
       "  Class    AGE  FEMALE  STEROID  ANTIVIRALS  FATIGUE  MALAISE  ANOREXIA  \\\n",
       "0  live  False   False     True        True    False    False     False   \n",
       "1  live   True   False    False        True    False     True      True   \n",
       "\n",
       "   BIGLIVER  FIRMLIVER  SPLEENPALPABLE  SPIDERS  ASCITES  VARICES  BILIRUBIN  \\\n",
       "0     False      False           False    False     True     True       True   \n",
       "1     False      False            True     True     True     True       True   \n",
       "\n",
       "    SGOT  HISTOLOGY  \n",
       "0  False      False  \n",
       "1  False      False  "
      ]
     },
     "metadata": {},
     "output_type": "display_data"
    },
    {
     "data": {
      "text/html": [
       "<div>\n",
       "<style scoped>\n",
       "    .dataframe tbody tr th:only-of-type {\n",
       "        vertical-align: middle;\n",
       "    }\n",
       "\n",
       "    .dataframe tbody tr th {\n",
       "        vertical-align: top;\n",
       "    }\n",
       "\n",
       "    .dataframe thead th {\n",
       "        text-align: right;\n",
       "    }\n",
       "</style>\n",
       "<table border=\"1\" class=\"dataframe\">\n",
       "  <thead>\n",
       "    <tr style=\"text-align: right;\">\n",
       "      <th></th>\n",
       "      <th>Class</th>\n",
       "      <th>AGE</th>\n",
       "      <th>FEMALE</th>\n",
       "      <th>STEROID</th>\n",
       "      <th>ANTIVIRALS</th>\n",
       "      <th>FATIGUE</th>\n",
       "      <th>MALAISE</th>\n",
       "      <th>ANOREXIA</th>\n",
       "      <th>BIGLIVER</th>\n",
       "      <th>FIRMLIVER</th>\n",
       "      <th>SPLEENPALPABLE</th>\n",
       "      <th>SPIDERS</th>\n",
       "      <th>ASCITES</th>\n",
       "      <th>VARICES</th>\n",
       "      <th>BILIRUBIN</th>\n",
       "      <th>SGOT</th>\n",
       "      <th>HISTOLOGY</th>\n",
       "    </tr>\n",
       "  </thead>\n",
       "  <tbody>\n",
       "    <tr>\n",
       "      <th>0</th>\n",
       "      <td>live</td>\n",
       "      <td>True</td>\n",
       "      <td>True</td>\n",
       "      <td>False</td>\n",
       "      <td>True</td>\n",
       "      <td>False</td>\n",
       "      <td>True</td>\n",
       "      <td>True</td>\n",
       "      <td>True</td>\n",
       "      <td>True</td>\n",
       "      <td>False</td>\n",
       "      <td>False</td>\n",
       "      <td>True</td>\n",
       "      <td>False</td>\n",
       "      <td>True</td>\n",
       "      <td>False</td>\n",
       "      <td>True</td>\n",
       "    </tr>\n",
       "    <tr>\n",
       "      <th>1</th>\n",
       "      <td>die</td>\n",
       "      <td>False</td>\n",
       "      <td>False</td>\n",
       "      <td>False</td>\n",
       "      <td>True</td>\n",
       "      <td>False</td>\n",
       "      <td>False</td>\n",
       "      <td>False</td>\n",
       "      <td>True</td>\n",
       "      <td>True</td>\n",
       "      <td>False</td>\n",
       "      <td>False</td>\n",
       "      <td>True</td>\n",
       "      <td>False</td>\n",
       "      <td>True</td>\n",
       "      <td>False</td>\n",
       "      <td>True</td>\n",
       "    </tr>\n",
       "  </tbody>\n",
       "</table>\n",
       "</div>"
      ],
      "text/plain": [
       "  Class    AGE  FEMALE  STEROID  ANTIVIRALS  FATIGUE  MALAISE  ANOREXIA  \\\n",
       "0  live   True    True    False        True    False     True      True   \n",
       "1   die  False   False    False        True    False    False     False   \n",
       "\n",
       "   BIGLIVER  FIRMLIVER  SPLEENPALPABLE  SPIDERS  ASCITES  VARICES  BILIRUBIN  \\\n",
       "0      True       True           False    False     True    False       True   \n",
       "1      True       True           False    False     True    False       True   \n",
       "\n",
       "    SGOT  HISTOLOGY  \n",
       "0  False       True  \n",
       "1  False       True  "
      ]
     },
     "metadata": {},
     "output_type": "display_data"
    },
    {
     "data": {
      "text/html": [
       "<div>\n",
       "<style scoped>\n",
       "    .dataframe tbody tr th:only-of-type {\n",
       "        vertical-align: middle;\n",
       "    }\n",
       "\n",
       "    .dataframe tbody tr th {\n",
       "        vertical-align: top;\n",
       "    }\n",
       "\n",
       "    .dataframe thead th {\n",
       "        text-align: right;\n",
       "    }\n",
       "</style>\n",
       "<table border=\"1\" class=\"dataframe\">\n",
       "  <thead>\n",
       "    <tr style=\"text-align: right;\">\n",
       "      <th></th>\n",
       "      <th>Class</th>\n",
       "      <th>AGE</th>\n",
       "      <th>FEMALE</th>\n",
       "      <th>STEROID</th>\n",
       "      <th>ANTIVIRALS</th>\n",
       "      <th>FATIGUE</th>\n",
       "      <th>MALAISE</th>\n",
       "      <th>ANOREXIA</th>\n",
       "      <th>BIGLIVER</th>\n",
       "      <th>FIRMLIVER</th>\n",
       "      <th>SPLEENPALPABLE</th>\n",
       "      <th>SPIDERS</th>\n",
       "      <th>ASCITES</th>\n",
       "      <th>VARICES</th>\n",
       "      <th>BILIRUBIN</th>\n",
       "      <th>SGOT</th>\n",
       "      <th>HISTOLOGY</th>\n",
       "    </tr>\n",
       "  </thead>\n",
       "  <tbody>\n",
       "    <tr>\n",
       "      <th>0</th>\n",
       "      <td>live</td>\n",
       "      <td>False</td>\n",
       "      <td>False</td>\n",
       "      <td>False</td>\n",
       "      <td>True</td>\n",
       "      <td>False</td>\n",
       "      <td>False</td>\n",
       "      <td>False</td>\n",
       "      <td>True</td>\n",
       "      <td>False</td>\n",
       "      <td>True</td>\n",
       "      <td>True</td>\n",
       "      <td>True</td>\n",
       "      <td>True</td>\n",
       "      <td>True</td>\n",
       "      <td>True</td>\n",
       "      <td>False</td>\n",
       "    </tr>\n",
       "    <tr>\n",
       "      <th>1</th>\n",
       "      <td>die</td>\n",
       "      <td>False</td>\n",
       "      <td>False</td>\n",
       "      <td>False</td>\n",
       "      <td>True</td>\n",
       "      <td>False</td>\n",
       "      <td>False</td>\n",
       "      <td>True</td>\n",
       "      <td>True</td>\n",
       "      <td>True</td>\n",
       "      <td>True</td>\n",
       "      <td>True</td>\n",
       "      <td>False</td>\n",
       "      <td>True</td>\n",
       "      <td>False</td>\n",
       "      <td>False</td>\n",
       "      <td>True</td>\n",
       "    </tr>\n",
       "  </tbody>\n",
       "</table>\n",
       "</div>"
      ],
      "text/plain": [
       "  Class    AGE  FEMALE  STEROID  ANTIVIRALS  FATIGUE  MALAISE  ANOREXIA  \\\n",
       "0  live  False   False    False        True    False    False     False   \n",
       "1   die  False   False    False        True    False    False      True   \n",
       "\n",
       "   BIGLIVER  FIRMLIVER  SPLEENPALPABLE  SPIDERS  ASCITES  VARICES  BILIRUBIN  \\\n",
       "0      True      False            True     True     True     True       True   \n",
       "1      True       True            True     True    False     True      False   \n",
       "\n",
       "    SGOT  HISTOLOGY  \n",
       "0   True      False  \n",
       "1  False       True  "
      ]
     },
     "metadata": {},
     "output_type": "display_data"
    }
   ],
   "source": [
    "hep = pd.read_csv(\"data\\\\part2\\\\hepatitis\", delimiter=\" \")\n",
    "hep_train = pd.read_csv(\"data\\\\part2\\\\hepatitis-test\", delimiter=\" \")\n",
    "hep_test = pd.read_csv(\"data\\\\part2\\\\hepatitis-training\", delimiter=\" \")\n",
    "\n",
    "display(hep.head(2))\n",
    "display(hep_train.head(2))\n",
    "display(hep_test.head(2))"
   ]
  },
  {
   "attachments": {},
   "cell_type": "markdown",
   "metadata": {},
   "source": [
    "## Data Exploration"
   ]
  },
  {
   "attachments": {},
   "cell_type": "markdown",
   "metadata": {},
   "source": [
    "Confirming the even split between train and test datasets."
   ]
  },
  {
   "cell_type": "code",
   "execution_count": 50,
   "metadata": {},
   "outputs": [
    {
     "name": "stdout",
     "output_type": "stream",
     "text": [
      "137 25 112\n"
     ]
    }
   ],
   "source": [
    "print(len(hep), len(hep_train), len(hep_test))"
   ]
  },
  {
   "attachments": {},
   "cell_type": "markdown",
   "metadata": {},
   "source": [
    "No null or NA values in our dataset."
   ]
  },
  {
   "cell_type": "code",
   "execution_count": 51,
   "metadata": {},
   "outputs": [
    {
     "data": {
      "text/plain": [
       "(array([], dtype=int64), array([], dtype=int64))"
      ]
     },
     "metadata": {},
     "output_type": "display_data"
    },
    {
     "data": {
      "text/plain": [
       "(array([], dtype=int64), array([], dtype=int64))"
      ]
     },
     "metadata": {},
     "output_type": "display_data"
    }
   ],
   "source": [
    "# check for missing values\n",
    "display(np.where(pd.isnull(hep)))\n",
    "display(np.where(pd.isna(hep)))"
   ]
  },
  {
   "attachments": {},
   "cell_type": "markdown",
   "metadata": {},
   "source": [
    "The data has loaded in as the correct types, although Class may need to be changed to factor."
   ]
  },
  {
   "cell_type": "code",
   "execution_count": 52,
   "metadata": {},
   "outputs": [
    {
     "name": "stdout",
     "output_type": "stream",
     "text": [
      "Class             object\n",
      "AGE                 bool\n",
      "FEMALE              bool\n",
      "STEROID             bool\n",
      "ANTIVIRALS          bool\n",
      "FATIGUE             bool\n",
      "MALAISE             bool\n",
      "ANOREXIA            bool\n",
      "BIGLIVER            bool\n",
      "FIRMLIVER           bool\n",
      "SPLEENPALPABLE      bool\n",
      "SPIDERS             bool\n",
      "ASCITES             bool\n",
      "VARICES             bool\n",
      "BILIRUBIN           bool\n",
      "SGOT                bool\n",
      "HISTOLOGY           bool\n",
      "dtype: object\n",
      "(137, 17)\n"
     ]
    }
   ],
   "source": [
    "print(hep.dtypes)\n",
    "print(hep.shape)"
   ]
  },
  {
   "attachments": {},
   "cell_type": "markdown",
   "metadata": {},
   "source": [
    "After further investigating class, it is clear this is a binary classification problem."
   ]
  },
  {
   "cell_type": "code",
   "execution_count": 53,
   "metadata": {},
   "outputs": [
    {
     "data": {
      "text/plain": [
       "array(['live', 'die'], dtype=object)"
      ]
     },
     "execution_count": 53,
     "metadata": {},
     "output_type": "execute_result"
    }
   ],
   "source": [
    "hep[\"Class\"].unique()"
   ]
  },
  {
   "cell_type": "code",
   "execution_count": 54,
   "metadata": {},
   "outputs": [
    {
     "data": {
      "text/plain": [
       "0      live\n",
       "1      live\n",
       "2      live\n",
       "3      live\n",
       "4      live\n",
       "       ... \n",
       "132    live\n",
       "133    live\n",
       "134    live\n",
       "135    live\n",
       "136    live\n",
       "Name: Class, Length: 137, dtype: category\n",
       "Categories (2, object): ['die', 'live']"
      ]
     },
     "execution_count": 54,
     "metadata": {},
     "output_type": "execute_result"
    }
   ],
   "source": [
    "hep[\"Class\"] = hep[\"Class\"].astype('category')\n",
    "hep[\"Class\"]"
   ]
  },
  {
   "cell_type": "code",
   "execution_count": 55,
   "metadata": {},
   "outputs": [],
   "source": [
    "hep_train_X = hep_train.drop(\"Class\", axis = 1)\n",
    "hep_train_y = hep_train[\"Class\"]\n",
    "hep_test_X = hep_test.drop(\"Class\", axis = 1)\n",
    "hep_test_y = hep_test[\"Class\"]"
   ]
  },
  {
   "attachments": {},
   "cell_type": "markdown",
   "metadata": {},
   "source": [
    "## Decision Tree Algorithm"
   ]
  },
  {
   "cell_type": "code",
   "execution_count": 79,
   "metadata": {},
   "outputs": [],
   "source": [
    "class DecisionTree:\n",
    "    def __init__(self):\n",
    "        import numpy as np\n",
    "        import pandas as pd\n",
    "        from scipy import stats\n",
    "        \n",
    "    def train(self, train_X: pd.DataFrame, train_y: pd.Series):\n",
    "        self.train_y = train_y\n",
    "        self.baseline = self.__most_common_class(train_y)\n",
    "        self.class_name = train_y.name\n",
    "        attributes = train_X.columns\n",
    "        # concatenating x & y will make it easier for the recursive structure of the algorithm\n",
    "        instances = pd.concat([train_y.to_frame(), train_X], axis = 1) # note y = column 0\n",
    "        self.node = self.__build_tree(instances, attributes)\n",
    "        return self.node\n",
    "    \n",
    "    def test(self, test_X: pd.DataFrame) -> pd.Series:\n",
    "        \"\"\"Tests the model on the test set and returns the predictions.\"\"\"\n",
    "        if(not self.node):\n",
    "            raise Exception(\"DecisionTree not trained yet. Please call .train() first.\")\n",
    "        predicted_nodes = []\n",
    "        for i in range(len(test_X)):\n",
    "            predicted_nodes.append(self.__test_helper(test_X.iloc[i], self.node))\n",
    "        return pd.Series(predicted_nodes)\n",
    "\n",
    "    def __test_helper(self, test_X_row: pd.Series, node):\n",
    "        \"\"\"Helper function for the test function. Recursively traverses the tree to find the leaf node.\"\"\"\n",
    "        if(isinstance(node, LeafNode)):\n",
    "            return node.class_name\n",
    "        split_class = node.class_name\n",
    "        split_value = test_X_row[split_class] # type: ignore\n",
    "        if(split_value):\n",
    "            return self.__test_helper(test_X_row, node.true_branch)\n",
    "        return self.__test_helper(test_X_row, node.false_branch)\n",
    "    \n",
    "    def evaluate(self, pred: pd.Series, test_y: pd.Series):\n",
    "        \"\"\"Calculates the accuracy of the predictions.\"\"\"\n",
    "        return np.mean(pred == test_y)\n",
    "    \n",
    "    def __build_tree(self, instances: pd.DataFrame, attributes: pd.Index):\n",
    "        \"\"\"Builds an optimal structured decision tree with decision nodes and leaf nodes.\"\"\"        \n",
    "        # to determine the root node, we find the first question with the optimal value\n",
    "        if(instances.empty):\n",
    "            # returns leaf node that contains the name and probability of the most probable class\n",
    "            return LeafNode(self.baseline, np.max(self.__frequency(self.train_y))) \n",
    "        unique_class_values = instances[instances.columns[0]].unique()\n",
    "        if(len(unique_class_values) == 1):  # check for pure node\n",
    "            # returns leaf node that contains the name of the unique class with prob 1\n",
    "            return LeafNode(unique_class_values[0], 1)  \n",
    "        if(attributes.empty):\n",
    "            # returns leaf node that contains the name and probability of the majority class of the instances\n",
    "            return LeafNode(self.__most_common_class(instances[instances.columns[0]]),  # type: ignore\n",
    "                                    self.__frequency(instances[instances.columns[0]])) # type: ignore\n",
    "        lowest_impurity = 1\n",
    "        best_att = attributes[1]\n",
    "        best_insts_true = instances\n",
    "        best_insts_false = instances\n",
    "        for attribute in attributes:\n",
    "            # separate instances into two sets\n",
    "            insts_true =  instances[instances[attribute]]\n",
    "            insts_false = instances[instances[attribute] == False]\n",
    "            # calculate purity of each set\n",
    "            gini_true  = self.__gini_impurity(insts_true [self.class_name]) # type: ignore\n",
    "            gini_false = self.__gini_impurity(insts_false[self.class_name]) # type: ignore\n",
    "            # weighted average purity\n",
    "            weighted_avg_impurity = ((len(insts_true)  / len(instances)) * gini_true + \n",
    "                                   (len(insts_false) / len(instances)) * gini_false)\n",
    "            if(weighted_avg_impurity < lowest_impurity):\n",
    "                best_att = attribute\n",
    "                best_insts_true  = insts_true\n",
    "                best_insts_false = insts_false\n",
    "        left  = self.__build_tree(best_insts_true,  attributes.drop(best_att))\n",
    "        right = self.__build_tree(best_insts_false, attributes.drop(best_att))\n",
    "        node = DecisionNode(best_att, left, right)\n",
    "        return node\n",
    "    \n",
    "    def __gini_impurity(self, class_label: pd.Series) -> float:\n",
    "        \"\"\"Calculates the gini impurity for the given labels.\"\"\"\n",
    "        freq = self.__frequency(class_label)\n",
    "        return 1 - np.sum([f ** 2 for f in freq]) # type: ignore\n",
    "    \n",
    "    def __frequency(self, class_label: pd.Series) -> list[int]:\n",
    "        \"\"\"Returns a list of the frequencies of each label.\"\"\"\n",
    "        return [np.mean(value == class_label) for value in class_label.unique()] # type: ignore\n",
    "    \n",
    "    def __most_common_class(self, class_label: pd.Series):\n",
    "        freq = self.__frequency(class_label)\n",
    "        unique = class_label.unique()\n",
    "        return unique[np.argmax(freq)]\n",
    "    \n",
    "class DecisionNode:\n",
    "    \"\"\"Decision nodes hold the optimal question at this level and two child nodes.\"\"\"\n",
    "    def __init__(self, class_name, true_branch, false_branch):\n",
    "        self.class_name = class_name\n",
    "        self.true_branch = true_branch\n",
    "        self.false_branch = false_branch\n",
    "        \n",
    "    def report(self, indent: str):\n",
    "        print(f\"{indent}{self.class_name} = True: \")\n",
    "        self.true_branch.report(indent+\"\\t\")\n",
    "        print(f\"{indent}{self.class_name} = False: \")\n",
    "        self.false_branch.report(indent+\"\\t\")\n",
    "\n",
    "\n",
    "class LeafNode:\n",
    "    \"\"\"Leaf nodes return the predicted class.\"\"\"\n",
    "    def __init__(self, class_name, probability):\n",
    "        self.class_name = class_name\n",
    "        self.probability = probability\n",
    "    \n",
    "    def report(self, indent: str):\n",
    "        if(self.probability==0): \n",
    "            print(f\"{indent}Unknown%n\")\n",
    "        else:\n",
    "            print(f\"{indent}Class {self.class_name}, prob={np.round(self.probability, 2)}\")\n",
    "\n"
   ]
  },
  {
   "attachments": {},
   "cell_type": "markdown",
   "metadata": {},
   "source": [
    "## Applying the Algorithm\n",
    "\n",
    "Lets use the hepatitis dataset to apply the decision tree algorithm."
   ]
  },
  {
   "cell_type": "code",
   "execution_count": 80,
   "metadata": {},
   "outputs": [
    {
     "name": "stdout",
     "output_type": "stream",
     "text": [
      "HISTOLOGY = True: \n",
      "\tSGOT = True: \n",
      "\t\tBILIRUBIN = True: \n",
      "\t\t\tVARICES = True: \n",
      "\t\t\t\tASCITES = True: \n",
      "\t\t\t\t\tClass die, prob=1\n",
      "\t\t\t\tASCITES = False: \n",
      "\t\t\t\t\tClass live, prob=1\n",
      "\t\t\tVARICES = False: \n",
      "\t\t\t\tASCITES = True: \n",
      "\t\t\t\t\tSPIDERS = True: \n",
      "\t\t\t\t\t\tClass live, prob=0.8\n",
      "\t\t\t\t\tSPIDERS = False: \n",
      "\t\t\t\t\t\tSPLEENPALPABLE = True: \n",
      "\t\t\t\t\t\t\tClass live, prob=1\n",
      "\t\t\t\t\t\tSPLEENPALPABLE = False: \n",
      "\t\t\t\t\t\t\tClass die, prob=1\n",
      "\t\t\t\tASCITES = False: \n",
      "\t\t\t\t\tClass live, prob=0.8\n",
      "\t\tBILIRUBIN = False: \n",
      "\t\t\tClass live, prob=1\n",
      "\tSGOT = False: \n",
      "\t\tBILIRUBIN = True: \n",
      "\t\t\tVARICES = True: \n",
      "\t\t\t\tASCITES = True: \n",
      "\t\t\t\t\tClass live, prob=1\n",
      "\t\t\t\tASCITES = False: \n",
      "\t\t\t\t\tClass die, prob=1\n",
      "\t\t\tVARICES = False: \n",
      "\t\t\t\tASCITES = True: \n",
      "\t\t\t\t\tSPIDERS = True: \n",
      "\t\t\t\t\t\tClass live, prob=0.8\n",
      "\t\t\t\t\tSPIDERS = False: \n",
      "\t\t\t\t\t\tSPLEENPALPABLE = True: \n",
      "\t\t\t\t\t\t\tClass live, prob=1\n",
      "\t\t\t\t\t\tSPLEENPALPABLE = False: \n",
      "\t\t\t\t\t\t\tFIRMLIVER = True: \n",
      "\t\t\t\t\t\t\t\tBIGLIVER = True: \n",
      "\t\t\t\t\t\t\t\t\tANOREXIA = True: \n",
      "\t\t\t\t\t\t\t\t\t\tClass live, prob=1\n",
      "\t\t\t\t\t\t\t\t\tANOREXIA = False: \n",
      "\t\t\t\t\t\t\t\t\t\tClass die, prob=1\n",
      "\t\t\t\t\t\t\t\tBIGLIVER = False: \n",
      "\t\t\t\t\t\t\t\t\tClass live, prob=0.8\n",
      "\t\t\t\t\t\t\tFIRMLIVER = False: \n",
      "\t\t\t\t\t\t\t\tClass live, prob=0.8\n",
      "\t\t\t\tASCITES = False: \n",
      "\t\t\t\t\tClass live, prob=0.8\n",
      "\t\tBILIRUBIN = False: \n",
      "\t\t\tVARICES = True: \n",
      "\t\t\t\tASCITES = True: \n",
      "\t\t\t\t\tSPIDERS = True: \n",
      "\t\t\t\t\t\tClass live, prob=1\n",
      "\t\t\t\t\tSPIDERS = False: \n",
      "\t\t\t\t\t\tClass die, prob=1\n",
      "\t\t\t\tASCITES = False: \n",
      "\t\t\t\t\tClass live, prob=0.8\n",
      "\t\t\tVARICES = False: \n",
      "\t\t\t\tClass live, prob=0.8\n",
      "HISTOLOGY = False: \n",
      "\tClass live, prob=1\n"
     ]
    }
   ],
   "source": [
    "dt_hep = DecisionTree()\n",
    "root = dt_hep.train(hep_train_X, hep_train_y)\n",
    "root.report(\"\")"
   ]
  },
  {
   "cell_type": "code",
   "execution_count": 81,
   "metadata": {},
   "outputs": [
    {
     "name": "stdout",
     "output_type": "stream",
     "text": [
      "0.7410714285714286\n"
     ]
    }
   ],
   "source": [
    "pred = dt_hep.test(hep_test_X)\n",
    "accuracy = dt_hep.evaluate(hep_test_y, pred)\n",
    "print(accuracy)"
   ]
  },
  {
   "attachments": {},
   "cell_type": "markdown",
   "metadata": {},
   "source": [
    "## New Data\n",
    "\n",
    "At last, our decision tree is working on the hepatitis dataset. Let's try it on the golf dataset now."
   ]
  },
  {
   "cell_type": "code",
   "execution_count": null,
   "metadata": {},
   "outputs": [
    {
     "data": {
      "text/html": [
       "<div>\n",
       "<style scoped>\n",
       "    .dataframe tbody tr th:only-of-type {\n",
       "        vertical-align: middle;\n",
       "    }\n",
       "\n",
       "    .dataframe tbody tr th {\n",
       "        vertical-align: top;\n",
       "    }\n",
       "\n",
       "    .dataframe thead th {\n",
       "        text-align: right;\n",
       "    }\n",
       "</style>\n",
       "<table border=\"1\" class=\"dataframe\">\n",
       "  <thead>\n",
       "    <tr style=\"text-align: right;\">\n",
       "      <th></th>\n",
       "      <th>Class</th>\n",
       "      <th>Cloudy</th>\n",
       "      <th>Raining</th>\n",
       "      <th>Hot</th>\n",
       "      <th>Cold</th>\n",
       "      <th>Humid</th>\n",
       "      <th>Windy</th>\n",
       "    </tr>\n",
       "  </thead>\n",
       "  <tbody>\n",
       "    <tr>\n",
       "      <th>0</th>\n",
       "      <td>PlayGolf</td>\n",
       "      <td>True</td>\n",
       "      <td>False</td>\n",
       "      <td>False</td>\n",
       "      <td>True</td>\n",
       "      <td>False</td>\n",
       "      <td>True</td>\n",
       "    </tr>\n",
       "    <tr>\n",
       "      <th>1</th>\n",
       "      <td>StayHome</td>\n",
       "      <td>True</td>\n",
       "      <td>True</td>\n",
       "      <td>False</td>\n",
       "      <td>True</td>\n",
       "      <td>False</td>\n",
       "      <td>True</td>\n",
       "    </tr>\n",
       "  </tbody>\n",
       "</table>\n",
       "</div>"
      ],
      "text/plain": [
       "      Class  Cloudy  Raining    Hot  Cold  Humid  Windy\n",
       "0  PlayGolf    True    False  False  True  False   True\n",
       "1  StayHome    True     True  False  True  False   True"
      ]
     },
     "metadata": {},
     "output_type": "display_data"
    },
    {
     "data": {
      "text/html": [
       "<div>\n",
       "<style scoped>\n",
       "    .dataframe tbody tr th:only-of-type {\n",
       "        vertical-align: middle;\n",
       "    }\n",
       "\n",
       "    .dataframe tbody tr th {\n",
       "        vertical-align: top;\n",
       "    }\n",
       "\n",
       "    .dataframe thead th {\n",
       "        text-align: right;\n",
       "    }\n",
       "</style>\n",
       "<table border=\"1\" class=\"dataframe\">\n",
       "  <thead>\n",
       "    <tr style=\"text-align: right;\">\n",
       "      <th></th>\n",
       "      <th>Class</th>\n",
       "      <th>Cloudy</th>\n",
       "      <th>Raining</th>\n",
       "      <th>Hot</th>\n",
       "      <th>Cold</th>\n",
       "      <th>Humid</th>\n",
       "      <th>Windy</th>\n",
       "    </tr>\n",
       "  </thead>\n",
       "  <tbody>\n",
       "    <tr>\n",
       "      <th>0</th>\n",
       "      <td>PlayGolf</td>\n",
       "      <td>True</td>\n",
       "      <td>False</td>\n",
       "      <td>True</td>\n",
       "      <td>False</td>\n",
       "      <td>False</td>\n",
       "      <td>False</td>\n",
       "    </tr>\n",
       "    <tr>\n",
       "      <th>1</th>\n",
       "      <td>StayHome</td>\n",
       "      <td>False</td>\n",
       "      <td>False</td>\n",
       "      <td>True</td>\n",
       "      <td>False</td>\n",
       "      <td>True</td>\n",
       "      <td>True</td>\n",
       "    </tr>\n",
       "  </tbody>\n",
       "</table>\n",
       "</div>"
      ],
      "text/plain": [
       "      Class  Cloudy  Raining   Hot   Cold  Humid  Windy\n",
       "0  PlayGolf    True    False  True  False  False  False\n",
       "1  StayHome   False    False  True  False   True   True"
      ]
     },
     "metadata": {},
     "output_type": "display_data"
    },
    {
     "data": {
      "text/html": [
       "<div>\n",
       "<style scoped>\n",
       "    .dataframe tbody tr th:only-of-type {\n",
       "        vertical-align: middle;\n",
       "    }\n",
       "\n",
       "    .dataframe tbody tr th {\n",
       "        vertical-align: top;\n",
       "    }\n",
       "\n",
       "    .dataframe thead th {\n",
       "        text-align: right;\n",
       "    }\n",
       "</style>\n",
       "<table border=\"1\" class=\"dataframe\">\n",
       "  <thead>\n",
       "    <tr style=\"text-align: right;\">\n",
       "      <th></th>\n",
       "      <th>Class</th>\n",
       "      <th>Cloudy</th>\n",
       "      <th>Raining</th>\n",
       "      <th>Hot</th>\n",
       "      <th>Cold</th>\n",
       "      <th>Humid</th>\n",
       "      <th>Windy</th>\n",
       "    </tr>\n",
       "  </thead>\n",
       "  <tbody>\n",
       "    <tr>\n",
       "      <th>0</th>\n",
       "      <td>StayHome</td>\n",
       "      <td>True</td>\n",
       "      <td>True</td>\n",
       "      <td>False</td>\n",
       "      <td>True</td>\n",
       "      <td>False</td>\n",
       "      <td>True</td>\n",
       "    </tr>\n",
       "    <tr>\n",
       "      <th>1</th>\n",
       "      <td>StayHome</td>\n",
       "      <td>False</td>\n",
       "      <td>False</td>\n",
       "      <td>False</td>\n",
       "      <td>False</td>\n",
       "      <td>True</td>\n",
       "      <td>False</td>\n",
       "    </tr>\n",
       "  </tbody>\n",
       "</table>\n",
       "</div>"
      ],
      "text/plain": [
       "      Class  Cloudy  Raining    Hot   Cold  Humid  Windy\n",
       "0  StayHome    True     True  False   True  False   True\n",
       "1  StayHome   False    False  False  False   True  False"
      ]
     },
     "metadata": {},
     "output_type": "display_data"
    }
   ],
   "source": [
    "golf = pd.read_csv(\"data\\part2\\golf\\golf\", sep = \" \")\n",
    "golf_train = pd.read_csv(\"data\\part2\\golf\\golf-training\", sep = \" \")\n",
    "golf_test = pd.read_csv(\"data\\part2\\golf\\golf-test\", sep = \" \")\n",
    "\n",
    "display(golf.head(2))\n",
    "display(golf_train.head(2))\n",
    "display(golf_test.head(2))"
   ]
  },
  {
   "cell_type": "code",
   "execution_count": null,
   "metadata": {},
   "outputs": [
    {
     "name": "stdout",
     "output_type": "stream",
     "text": [
      "(14, 7)\n",
      "(array([], dtype=int64), array([], dtype=int64))\n",
      "(array([], dtype=int64), array([], dtype=int64))\n",
      "['PlayGolf' 'StayHome']\n"
     ]
    }
   ],
   "source": [
    "print(golf.shape)\n",
    "print(np.where(pd.isnull(golf)))\n",
    "print(np.where(pd.isna(golf)))\n",
    "print(golf[\"Class\"].unique())"
   ]
  },
  {
   "cell_type": "code",
   "execution_count": null,
   "metadata": {},
   "outputs": [],
   "source": [
    "golf_train_X = golf_train.drop(\"Class\", axis = 1)\n",
    "golf_train_y = golf_train[\"Class\"]\n",
    "golf_test_X = golf_test.drop(\"Class\", axis = 1)\n",
    "golf_test_y = golf_test[\"Class\"]"
   ]
  },
  {
   "cell_type": "code",
   "execution_count": null,
   "metadata": {},
   "outputs": [
    {
     "name": "stdout",
     "output_type": "stream",
     "text": [
      "Windy = True: \n",
      "\tHumid = True: \n",
      "\t\tCold = True: \n",
      "\t\t\tClass PlayGolf, prob=0.75\n",
      "\t\tCold = False: \n",
      "\t\t\tHot = True: \n",
      "\t\t\t\tClass StayHome, prob=1\n",
      "\t\t\tHot = False: \n",
      "\t\t\t\tClass PlayGolf, prob=1\n",
      "\tHumid = False: \n",
      "\t\tClass StayHome, prob=1\n",
      "Windy = False: \n",
      "\tClass PlayGolf, prob=1\n"
     ]
    }
   ],
   "source": [
    "dt_golf = DecisionTree()\n",
    "root = dt_golf.train(golf_train_X, golf_train_y)\n",
    "root.report(\"\")"
   ]
  },
  {
   "cell_type": "code",
   "execution_count": null,
   "metadata": {},
   "outputs": [
    {
     "name": "stdout",
     "output_type": "stream",
     "text": [
      "0.5\n"
     ]
    }
   ],
   "source": [
    "pred = dt_golf.test(golf_test_X)\n",
    "accuracy = dt_golf.evaluate(golf_test_y, pred)\n",
    "print(accuracy)"
   ]
  },
  {
   "attachments": {},
   "cell_type": "markdown",
   "metadata": {},
   "source": [
    "## Performance Analysis\n",
    "\n",
    "The performance of the decision tree is not great. It is only able to predict half of the test data correctly. This is not a good result.\n",
    "If we implemented pruning, we would expect the decision tree to perform better."
   ]
  }
 ],
 "metadata": {
  "kernelspec": {
   "display_name": "Python 3.10.9 64-bit",
   "language": "python",
   "name": "python3"
  },
  "language_info": {
   "codemirror_mode": {
    "name": "ipython",
    "version": 3
   },
   "file_extension": ".py",
   "mimetype": "text/x-python",
   "name": "python",
   "nbconvert_exporter": "python",
   "pygments_lexer": "ipython3",
   "version": "3.10.9"
  },
  "orig_nbformat": 4,
  "vscode": {
   "interpreter": {
    "hash": "aee8b7b246df8f9039afb4144a1f6fd8d2ca17a180786b69acc140d282b71a49"
   }
  }
 },
 "nbformat": 4,
 "nbformat_minor": 2
}
