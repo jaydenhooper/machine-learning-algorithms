{
 "cells": [
  {
   "cell_type": "markdown",
   "metadata": {},
   "source": [
    "## Perceptron"
   ]
  },
  {
   "cell_type": "markdown",
   "metadata": {},
   "source": [
    "### Import Data\n"
   ]
  },
  {
   "cell_type": "code",
   "execution_count": 9,
   "metadata": {},
   "outputs": [],
   "source": [
    "import pandas as pd\n",
    "import numpy as np"
   ]
  },
  {
   "cell_type": "code",
   "execution_count": 10,
   "metadata": {},
   "outputs": [],
   "source": [
    "iono = pd.read_csv(\"data/part3/ionosphere.data\" , delimiter = \" \",\n",
    "                   converters = {34: lambda x: 1 if x == 'g' else 0})\n",
    "\n",
    "iono_X = iono.drop(\"class\", axis=1)\n",
    "iono_y = iono[\"class\"]"
   ]
  },
  {
   "cell_type": "markdown",
   "metadata": {},
   "source": [
    "### Split Data"
   ]
  },
  {
   "cell_type": "code",
   "execution_count": 11,
   "metadata": {},
   "outputs": [],
   "source": [
    "iono_train = iono.sample(frac=0.7, random_state=0)\n",
    "iono_test = iono.drop(iono_train.index)\n",
    "\n",
    "iono_train_X = iono_train.drop(\"class\", axis=1)\n",
    "iono_train_y = iono_train[\"class\"]\n",
    "iono_test_X = iono_test.drop(\"class\", axis=1)\n",
    "iono_test_y = iono_test[\"class\"]"
   ]
  },
  {
   "attachments": {},
   "cell_type": "markdown",
   "metadata": {},
   "source": [
    "### Perceptron Class"
   ]
  },
  {
   "cell_type": "code",
   "execution_count": 12,
   "metadata": {},
   "outputs": [],
   "source": [
    "class Perceptron:\n",
    "    def __init__(self):\n",
    "        import numpy as np\n",
    "        self.weights = None\n",
    "        self.bias = None\n",
    "    \n",
    "    def train(self, X, y):\n",
    "        \"\"\"Train the perceptron on the given data.\"\"\"\n",
    "        n_observations, n_attributes = X.shape\n",
    "        # initialize parameters\n",
    "        self.weights = np.zeros(n_attributes)\n",
    "        self.bias = 0\n",
    "        # update weights for as many iterations specified\n",
    "        counter, total_count, max_improvement, current_improvement = 0, 0, 0, 0\n",
    "        while (counter < 100 or max_improvement == 1):\n",
    "            total_count += 1\n",
    "            for i, row in enumerate(X):\n",
    "                z = np.dot(row, self.weights) + self.bias\n",
    "                y_pred = self.__activation(z)\n",
    "                update = (y[i] - y_pred)\n",
    "                self.weights += update * row\n",
    "                self.bias += update\n",
    "            current_improvement = self.evaluate(X, y)\n",
    "            if(max_improvement < current_improvement):\n",
    "                max_improvement = current_improvement\n",
    "                counter = 0\n",
    "            counter += 1\n",
    "        print(total_count)\n",
    "\n",
    "    def predict(self, X):\n",
    "        \"\"\"Predict the class labels for the given data.\"\"\"\n",
    "        if self.weights is None:\n",
    "            raise Exception(\"Perceptron has not been trained. Please call .train() first.\")\n",
    "        z = np.dot(X, self.weights) + self.bias\n",
    "        y_pred = self.__activation(z)\n",
    "        return y_pred\n",
    "    \n",
    "    def evaluate(self, X, y):\n",
    "        y_pred = self.predict(X)\n",
    "        return np.sum(y_pred == y) / len(y)\n",
    "\n",
    "    def __activation(self, z):\n",
    "        \"\"\"Activation function, given the bias is a weight.\"\"\"\n",
    "        return np.where(z > 0, 1, 0)"
   ]
  },
  {
   "cell_type": "markdown",
   "metadata": {},
   "source": [
    "### Train and Test on the same data"
   ]
  },
  {
   "cell_type": "code",
   "execution_count": 13,
   "metadata": {},
   "outputs": [
    {
     "name": "stdout",
     "output_type": "stream",
     "text": [
      "198\n"
     ]
    }
   ],
   "source": [
    "p1 = Perceptron()\n",
    "p1.train(iono_X.to_numpy(), iono_y.to_numpy())"
   ]
  },
  {
   "cell_type": "code",
   "execution_count": 14,
   "metadata": {},
   "outputs": [
    {
     "data": {
      "text/plain": [
       "0.8857142857142857"
      ]
     },
     "execution_count": 14,
     "metadata": {},
     "output_type": "execute_result"
    }
   ],
   "source": [
    "p1.evaluate(iono_test_X, iono_test_y)"
   ]
  },
  {
   "cell_type": "code",
   "execution_count": 17,
   "metadata": {},
   "outputs": [
    {
     "data": {
      "text/plain": [
       "array([ 57.     ,   0.     ,   8.30363,   2.66221,  10.66447,   7.97673,\n",
       "         0.37107,  12.36111,  15.27071,   4.61155,  -8.46069,  -3.8096 ,\n",
       "        -3.43787,  -0.17199,  11.86249,  -9.53405,   2.70213,   7.9501 ,\n",
       "       -15.27281,   2.18966,  -0.50453, -11.53109,  10.82663,   8.94307,\n",
       "         5.28427,   3.6466 , -16.03456,   0.8899 ,   4.54515,   6.3531 ,\n",
       "         6.89108,   2.30255,   1.1352 , -12.1055 ])"
      ]
     },
     "execution_count": 17,
     "metadata": {},
     "output_type": "execute_result"
    }
   ],
   "source": [
    "p1.weights"
   ]
  },
  {
   "cell_type": "markdown",
   "metadata": {},
   "source": [
    "### Train and Test on splitted data"
   ]
  },
  {
   "cell_type": "code",
   "execution_count": 15,
   "metadata": {},
   "outputs": [
    {
     "name": "stdout",
     "output_type": "stream",
     "text": [
      "161\n"
     ]
    }
   ],
   "source": [
    "p2 = Perceptron()\n",
    "p2.train(iono_train_X.to_numpy(), iono_train_y.to_numpy())"
   ]
  },
  {
   "cell_type": "code",
   "execution_count": 16,
   "metadata": {},
   "outputs": [
    {
     "data": {
      "text/plain": [
       "0.8476190476190476"
      ]
     },
     "execution_count": 16,
     "metadata": {},
     "output_type": "execute_result"
    }
   ],
   "source": [
    "p2.evaluate(iono_test_X, iono_test_y)"
   ]
  },
  {
   "cell_type": "code",
   "execution_count": 18,
   "metadata": {},
   "outputs": [
    {
     "data": {
      "text/plain": [
       "array([ 5.600000e+01,  0.000000e+00,  9.548790e+00, -4.270000e-01,\n",
       "        6.355950e+00, -1.761210e+00,  4.655940e+00,  1.241193e+01,\n",
       "        7.564210e+00,  6.297910e+00, -4.762670e+00,  8.344550e+00,\n",
       "        3.460230e+00,  6.158240e+00,  5.105000e-02, -1.794331e+01,\n",
       "       -1.214350e+00,  1.006977e+01, -1.252454e+01,  8.160400e-01,\n",
       "        1.326059e+01, -2.329778e+01,  1.116332e+01, -8.378530e+00,\n",
       "        1.283087e+01,  1.682397e+01, -3.029886e+01,  1.181260e+00,\n",
       "        1.358000e+00,  8.817420e+00,  1.663547e+01,  9.731200e-01,\n",
       "       -3.044800e-01, -8.508990e+00])"
      ]
     },
     "execution_count": 18,
     "metadata": {},
     "output_type": "execute_result"
    }
   ],
   "source": [
    "p2.weights"
   ]
  }
 ],
 "metadata": {
  "kernelspec": {
   "display_name": "Python 3.10.9 64-bit",
   "language": "python",
   "name": "python3"
  },
  "language_info": {
   "codemirror_mode": {
    "name": "ipython",
    "version": 3
   },
   "file_extension": ".py",
   "mimetype": "text/x-python",
   "name": "python",
   "nbconvert_exporter": "python",
   "pygments_lexer": "ipython3",
   "version": "3.10.9"
  },
  "orig_nbformat": 4,
  "vscode": {
   "interpreter": {
    "hash": "aee8b7b246df8f9039afb4144a1f6fd8d2ca17a180786b69acc140d282b71a49"
   }
  }
 },
 "nbformat": 4,
 "nbformat_minor": 2
}
