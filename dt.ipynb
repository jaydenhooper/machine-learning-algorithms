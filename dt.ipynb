{
 "cells": [
  {
   "attachments": {},
   "cell_type": "markdown",
   "metadata": {},
   "source": [
    "# Decision Tree"
   ]
  },
  {
   "attachments": {},
   "cell_type": "markdown",
   "metadata": {},
   "source": [
    "## Imports"
   ]
  },
  {
   "cell_type": "code",
   "execution_count": 40,
   "metadata": {},
   "outputs": [],
   "source": [
    "import pandas as pd\n",
    "import numpy as np\n",
    "import matplotlib.pyplot as plt"
   ]
  },
  {
   "attachments": {},
   "cell_type": "markdown",
   "metadata": {},
   "source": [
    "## Loading Data"
   ]
  },
  {
   "cell_type": "code",
   "execution_count": 33,
   "metadata": {},
   "outputs": [
    {
     "data": {
      "text/html": [
       "<div>\n",
       "<style scoped>\n",
       "    .dataframe tbody tr th:only-of-type {\n",
       "        vertical-align: middle;\n",
       "    }\n",
       "\n",
       "    .dataframe tbody tr th {\n",
       "        vertical-align: top;\n",
       "    }\n",
       "\n",
       "    .dataframe thead th {\n",
       "        text-align: right;\n",
       "    }\n",
       "</style>\n",
       "<table border=\"1\" class=\"dataframe\">\n",
       "  <thead>\n",
       "    <tr style=\"text-align: right;\">\n",
       "      <th></th>\n",
       "      <th>Class</th>\n",
       "      <th>AGE</th>\n",
       "      <th>FEMALE</th>\n",
       "      <th>STEROID</th>\n",
       "      <th>ANTIVIRALS</th>\n",
       "      <th>FATIGUE</th>\n",
       "      <th>MALAISE</th>\n",
       "      <th>ANOREXIA</th>\n",
       "      <th>BIGLIVER</th>\n",
       "      <th>FIRMLIVER</th>\n",
       "      <th>SPLEENPALPABLE</th>\n",
       "      <th>SPIDERS</th>\n",
       "      <th>ASCITES</th>\n",
       "      <th>VARICES</th>\n",
       "      <th>BILIRUBIN</th>\n",
       "      <th>SGOT</th>\n",
       "      <th>HISTOLOGY</th>\n",
       "    </tr>\n",
       "  </thead>\n",
       "  <tbody>\n",
       "    <tr>\n",
       "      <th>0</th>\n",
       "      <td>live</td>\n",
       "      <td>False</td>\n",
       "      <td>False</td>\n",
       "      <td>True</td>\n",
       "      <td>True</td>\n",
       "      <td>False</td>\n",
       "      <td>False</td>\n",
       "      <td>False</td>\n",
       "      <td>False</td>\n",
       "      <td>False</td>\n",
       "      <td>False</td>\n",
       "      <td>False</td>\n",
       "      <td>True</td>\n",
       "      <td>True</td>\n",
       "      <td>True</td>\n",
       "      <td>False</td>\n",
       "      <td>False</td>\n",
       "    </tr>\n",
       "    <tr>\n",
       "      <th>1</th>\n",
       "      <td>live</td>\n",
       "      <td>True</td>\n",
       "      <td>False</td>\n",
       "      <td>False</td>\n",
       "      <td>True</td>\n",
       "      <td>False</td>\n",
       "      <td>True</td>\n",
       "      <td>True</td>\n",
       "      <td>False</td>\n",
       "      <td>False</td>\n",
       "      <td>True</td>\n",
       "      <td>True</td>\n",
       "      <td>True</td>\n",
       "      <td>True</td>\n",
       "      <td>True</td>\n",
       "      <td>False</td>\n",
       "      <td>False</td>\n",
       "    </tr>\n",
       "  </tbody>\n",
       "</table>\n",
       "</div>"
      ],
      "text/plain": [
       "  Class    AGE  FEMALE  STEROID  ANTIVIRALS  FATIGUE  MALAISE  ANOREXIA  \\\n",
       "0  live  False   False     True        True    False    False     False   \n",
       "1  live   True   False    False        True    False     True      True   \n",
       "\n",
       "   BIGLIVER  FIRMLIVER  SPLEENPALPABLE  SPIDERS  ASCITES  VARICES  BILIRUBIN  \\\n",
       "0     False      False           False    False     True     True       True   \n",
       "1     False      False            True     True     True     True       True   \n",
       "\n",
       "    SGOT  HISTOLOGY  \n",
       "0  False      False  \n",
       "1  False      False  "
      ]
     },
     "metadata": {},
     "output_type": "display_data"
    },
    {
     "data": {
      "text/html": [
       "<div>\n",
       "<style scoped>\n",
       "    .dataframe tbody tr th:only-of-type {\n",
       "        vertical-align: middle;\n",
       "    }\n",
       "\n",
       "    .dataframe tbody tr th {\n",
       "        vertical-align: top;\n",
       "    }\n",
       "\n",
       "    .dataframe thead th {\n",
       "        text-align: right;\n",
       "    }\n",
       "</style>\n",
       "<table border=\"1\" class=\"dataframe\">\n",
       "  <thead>\n",
       "    <tr style=\"text-align: right;\">\n",
       "      <th></th>\n",
       "      <th>Class</th>\n",
       "      <th>AGE</th>\n",
       "      <th>FEMALE</th>\n",
       "      <th>STEROID</th>\n",
       "      <th>ANTIVIRALS</th>\n",
       "      <th>FATIGUE</th>\n",
       "      <th>MALAISE</th>\n",
       "      <th>ANOREXIA</th>\n",
       "      <th>BIGLIVER</th>\n",
       "      <th>FIRMLIVER</th>\n",
       "      <th>SPLEENPALPABLE</th>\n",
       "      <th>SPIDERS</th>\n",
       "      <th>ASCITES</th>\n",
       "      <th>VARICES</th>\n",
       "      <th>BILIRUBIN</th>\n",
       "      <th>SGOT</th>\n",
       "      <th>HISTOLOGY</th>\n",
       "    </tr>\n",
       "  </thead>\n",
       "  <tbody>\n",
       "    <tr>\n",
       "      <th>0</th>\n",
       "      <td>live</td>\n",
       "      <td>True</td>\n",
       "      <td>True</td>\n",
       "      <td>False</td>\n",
       "      <td>True</td>\n",
       "      <td>False</td>\n",
       "      <td>True</td>\n",
       "      <td>True</td>\n",
       "      <td>True</td>\n",
       "      <td>True</td>\n",
       "      <td>False</td>\n",
       "      <td>False</td>\n",
       "      <td>True</td>\n",
       "      <td>False</td>\n",
       "      <td>True</td>\n",
       "      <td>False</td>\n",
       "      <td>True</td>\n",
       "    </tr>\n",
       "    <tr>\n",
       "      <th>1</th>\n",
       "      <td>die</td>\n",
       "      <td>False</td>\n",
       "      <td>False</td>\n",
       "      <td>False</td>\n",
       "      <td>True</td>\n",
       "      <td>False</td>\n",
       "      <td>False</td>\n",
       "      <td>False</td>\n",
       "      <td>True</td>\n",
       "      <td>True</td>\n",
       "      <td>False</td>\n",
       "      <td>False</td>\n",
       "      <td>True</td>\n",
       "      <td>False</td>\n",
       "      <td>True</td>\n",
       "      <td>False</td>\n",
       "      <td>True</td>\n",
       "    </tr>\n",
       "  </tbody>\n",
       "</table>\n",
       "</div>"
      ],
      "text/plain": [
       "  Class    AGE  FEMALE  STEROID  ANTIVIRALS  FATIGUE  MALAISE  ANOREXIA  \\\n",
       "0  live   True    True    False        True    False     True      True   \n",
       "1   die  False   False    False        True    False    False     False   \n",
       "\n",
       "   BIGLIVER  FIRMLIVER  SPLEENPALPABLE  SPIDERS  ASCITES  VARICES  BILIRUBIN  \\\n",
       "0      True       True           False    False     True    False       True   \n",
       "1      True       True           False    False     True    False       True   \n",
       "\n",
       "    SGOT  HISTOLOGY  \n",
       "0  False       True  \n",
       "1  False       True  "
      ]
     },
     "metadata": {},
     "output_type": "display_data"
    },
    {
     "data": {
      "text/html": [
       "<div>\n",
       "<style scoped>\n",
       "    .dataframe tbody tr th:only-of-type {\n",
       "        vertical-align: middle;\n",
       "    }\n",
       "\n",
       "    .dataframe tbody tr th {\n",
       "        vertical-align: top;\n",
       "    }\n",
       "\n",
       "    .dataframe thead th {\n",
       "        text-align: right;\n",
       "    }\n",
       "</style>\n",
       "<table border=\"1\" class=\"dataframe\">\n",
       "  <thead>\n",
       "    <tr style=\"text-align: right;\">\n",
       "      <th></th>\n",
       "      <th>Class</th>\n",
       "      <th>AGE</th>\n",
       "      <th>FEMALE</th>\n",
       "      <th>STEROID</th>\n",
       "      <th>ANTIVIRALS</th>\n",
       "      <th>FATIGUE</th>\n",
       "      <th>MALAISE</th>\n",
       "      <th>ANOREXIA</th>\n",
       "      <th>BIGLIVER</th>\n",
       "      <th>FIRMLIVER</th>\n",
       "      <th>SPLEENPALPABLE</th>\n",
       "      <th>SPIDERS</th>\n",
       "      <th>ASCITES</th>\n",
       "      <th>VARICES</th>\n",
       "      <th>BILIRUBIN</th>\n",
       "      <th>SGOT</th>\n",
       "      <th>HISTOLOGY</th>\n",
       "    </tr>\n",
       "  </thead>\n",
       "  <tbody>\n",
       "    <tr>\n",
       "      <th>0</th>\n",
       "      <td>live</td>\n",
       "      <td>False</td>\n",
       "      <td>False</td>\n",
       "      <td>False</td>\n",
       "      <td>True</td>\n",
       "      <td>False</td>\n",
       "      <td>False</td>\n",
       "      <td>False</td>\n",
       "      <td>True</td>\n",
       "      <td>False</td>\n",
       "      <td>True</td>\n",
       "      <td>True</td>\n",
       "      <td>True</td>\n",
       "      <td>True</td>\n",
       "      <td>True</td>\n",
       "      <td>True</td>\n",
       "      <td>False</td>\n",
       "    </tr>\n",
       "    <tr>\n",
       "      <th>1</th>\n",
       "      <td>die</td>\n",
       "      <td>False</td>\n",
       "      <td>False</td>\n",
       "      <td>False</td>\n",
       "      <td>True</td>\n",
       "      <td>False</td>\n",
       "      <td>False</td>\n",
       "      <td>True</td>\n",
       "      <td>True</td>\n",
       "      <td>True</td>\n",
       "      <td>True</td>\n",
       "      <td>True</td>\n",
       "      <td>False</td>\n",
       "      <td>True</td>\n",
       "      <td>False</td>\n",
       "      <td>False</td>\n",
       "      <td>True</td>\n",
       "    </tr>\n",
       "  </tbody>\n",
       "</table>\n",
       "</div>"
      ],
      "text/plain": [
       "  Class    AGE  FEMALE  STEROID  ANTIVIRALS  FATIGUE  MALAISE  ANOREXIA  \\\n",
       "0  live  False   False    False        True    False    False     False   \n",
       "1   die  False   False    False        True    False    False      True   \n",
       "\n",
       "   BIGLIVER  FIRMLIVER  SPLEENPALPABLE  SPIDERS  ASCITES  VARICES  BILIRUBIN  \\\n",
       "0      True      False            True     True     True     True       True   \n",
       "1      True       True            True     True    False     True      False   \n",
       "\n",
       "    SGOT  HISTOLOGY  \n",
       "0   True      False  \n",
       "1  False       True  "
      ]
     },
     "metadata": {},
     "output_type": "display_data"
    }
   ],
   "source": [
    "hep = pd.read_csv(\"data\\\\part2\\\\hepatitis\", delimiter=\" \")\n",
    "hep_train = pd.read_csv(\"data\\\\part2\\\\hepatitis-test\", delimiter=\" \")\n",
    "hep_test = pd.read_csv(\"data\\\\part2\\\\hepatitis-training\", delimiter=\" \")\n",
    "\n",
    "display(hep.head(2))\n",
    "display(hep_train.head(2))\n",
    "display(hep_test.head(2))"
   ]
  },
  {
   "attachments": {},
   "cell_type": "markdown",
   "metadata": {},
   "source": [
    "## Data Exploration"
   ]
  },
  {
   "attachments": {},
   "cell_type": "markdown",
   "metadata": {},
   "source": [
    "Confirming the even split between train and test datasets."
   ]
  },
  {
   "cell_type": "code",
   "execution_count": 38,
   "metadata": {},
   "outputs": [
    {
     "name": "stdout",
     "output_type": "stream",
     "text": [
      "137 25 112\n"
     ]
    }
   ],
   "source": [
    "print(len(hep), len(hep_train), len(hep_test))"
   ]
  },
  {
   "attachments": {},
   "cell_type": "markdown",
   "metadata": {},
   "source": [
    "No null or NA values in our dataset."
   ]
  },
  {
   "cell_type": "code",
   "execution_count": 44,
   "metadata": {},
   "outputs": [
    {
     "data": {
      "text/plain": [
       "(array([], dtype=int64), array([], dtype=int64))"
      ]
     },
     "metadata": {},
     "output_type": "display_data"
    },
    {
     "data": {
      "text/plain": [
       "(array([], dtype=int64), array([], dtype=int64))"
      ]
     },
     "metadata": {},
     "output_type": "display_data"
    }
   ],
   "source": [
    "# check for missing values\n",
    "display(np.where(pd.isnull(hep)))\n",
    "display(np.where(pd.isna(hep)))"
   ]
  },
  {
   "attachments": {},
   "cell_type": "markdown",
   "metadata": {},
   "source": [
    "The data has loaded in as the correct types, although Class may need to be changed to factor."
   ]
  },
  {
   "cell_type": "code",
   "execution_count": 45,
   "metadata": {},
   "outputs": [
    {
     "name": "stdout",
     "output_type": "stream",
     "text": [
      "Class             object\n",
      "AGE                 bool\n",
      "FEMALE              bool\n",
      "STEROID             bool\n",
      "ANTIVIRALS          bool\n",
      "FATIGUE             bool\n",
      "MALAISE             bool\n",
      "ANOREXIA            bool\n",
      "BIGLIVER            bool\n",
      "FIRMLIVER           bool\n",
      "SPLEENPALPABLE      bool\n",
      "SPIDERS             bool\n",
      "ASCITES             bool\n",
      "VARICES             bool\n",
      "BILIRUBIN           bool\n",
      "SGOT                bool\n",
      "HISTOLOGY           bool\n",
      "dtype: object\n",
      "(137, 17)\n"
     ]
    }
   ],
   "source": [
    "print(hep.dtypes)\n",
    "print(hep.shape)"
   ]
  },
  {
   "attachments": {},
   "cell_type": "markdown",
   "metadata": {},
   "source": [
    "After further investigating class, it is clear this is a binary classification problem."
   ]
  },
  {
   "cell_type": "code",
   "execution_count": 46,
   "metadata": {},
   "outputs": [
    {
     "data": {
      "text/plain": [
       "array(['live', 'die'], dtype=object)"
      ]
     },
     "execution_count": 46,
     "metadata": {},
     "output_type": "execute_result"
    }
   ],
   "source": [
    "hep[\"Class\"].unique()"
   ]
  },
  {
   "cell_type": "code",
   "execution_count": 49,
   "metadata": {},
   "outputs": [
    {
     "data": {
      "text/plain": [
       "CategoricalDtype(categories=['die', 'live'], ordered=False)"
      ]
     },
     "execution_count": 49,
     "metadata": {},
     "output_type": "execute_result"
    }
   ],
   "source": [
    "hep[\"Class\"] = hep[\"Class\"].astype('category')\n",
    "hep[\"Class\"].dtype"
   ]
  },
  {
   "attachments": {},
   "cell_type": "markdown",
   "metadata": {},
   "source": [
    "## Decision Tree Algorithm"
   ]
  },
  {
   "cell_type": "code",
   "execution_count": 115,
   "metadata": {},
   "outputs": [
    {
     "data": {
      "text/plain": [
       "0.4352"
      ]
     },
     "execution_count": 115,
     "metadata": {},
     "output_type": "execute_result"
    }
   ],
   "source": [
    "class DecisionTree:\n",
    "    def __init__(self):\n",
    "        import numpy as np\n",
    "        return None\n",
    "    \n",
    "    def train(self, train_X: pd.DataFrame, train_y: pd.DataFrame):\n",
    "        # x = train_y + train_X\n",
    "        return self.__gini_impurity1(train_X[\"AGE\"])\n",
    "    \n",
    "    def test(self, test_X):\n",
    "        return 0\n",
    "    \n",
    "    def __build_tree(self, train_X, train_y):\n",
    "        \"\"\"Builds an optimal structured decision tree with decision nodes and leaf nodes.\"\"\"\n",
    "        # to determine the root node, we find the first question with the optimal value\n",
    "        info, question = self.__optimal_question()\n",
    "\n",
    "        return 0\n",
    "    \n",
    "    def __optimal_question(self):\n",
    "        \"\"\"Calculates the impurity and returns the optimal question and information gained from asking a question.\"\"\"\n",
    "        info = 0\n",
    "        question = 0\n",
    "        return info, question\n",
    "    \n",
    "    def __leaf(self, train_y):\n",
    "        \"\"\"Leaf nodes return the predicted class.\"\"\"\n",
    "        return 0\n",
    "    \n",
    "    def __decision_node(self, optimal_question, true_branch, false_branch):\n",
    "        \"\"\"Decision nodes hold the optimal question at this level and two child nodes.\"\"\"\n",
    "        return 0\n",
    "    \n",
    "    def __probability_based_impurity(self, labels):\n",
    "        freq = self.__frequency(labels)\n",
    "        pbi = freq[0]\n",
    "        for i in range(1, len(freq)):\n",
    "            pbi = pbi * freq[i]\n",
    "        return pbi\n",
    "    \n",
    "    def __gini_impurity1(self, labels):\n",
    "        \"\"\"From testing, this version seems to have less precision than option 2\"\"\"\n",
    "        freq = self.__frequency(labels)\n",
    "        return np.sum([freq[i] * (1 - freq[i]) for i in range(len(labels.unique()))])\n",
    "    \n",
    "    def __gini_impurity2(self, labels):\n",
    "        \"\"\"This version seems more reliable from 2 sources\"\"\"\n",
    "        freq = self.__frequency(labels)\n",
    "        return 1 - np.sum([freq[i] ** 2 for i in range(len(labels.unique()))])\n",
    "\n",
    "    def __entropy(self, labels):\n",
    "        freq = self.__frequency(labels)\n",
    "        return np.sum([-freq[i] * np.log(freq[i]) for i in range(len(labels.unique()))])\n",
    "    \n",
    "    def __frequency(self, labels: pd.Series):\n",
    "        return [np.mean(label == labels) for label in labels.unique()]\n",
    "\n",
    "\n",
    "dt = DecisionTree()\n",
    "dt.train(hep_train, hep_test)\n"
   ]
  }
 ],
 "metadata": {
  "kernelspec": {
   "display_name": "Python 3",
   "language": "python",
   "name": "python3"
  },
  "language_info": {
   "codemirror_mode": {
    "name": "ipython",
    "version": 3
   },
   "file_extension": ".py",
   "mimetype": "text/x-python",
   "name": "python",
   "nbconvert_exporter": "python",
   "pygments_lexer": "ipython3",
   "version": "3.11.2"
  },
  "orig_nbformat": 4
 },
 "nbformat": 4,
 "nbformat_minor": 2
}
