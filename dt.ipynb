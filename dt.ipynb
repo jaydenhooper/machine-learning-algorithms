{
 "cells": [
  {
   "attachments": {},
   "cell_type": "markdown",
   "metadata": {},
   "source": [
    "# Decision Tree"
   ]
  },
  {
   "attachments": {},
   "cell_type": "markdown",
   "metadata": {},
   "source": [
    "## Imports"
   ]
  },
  {
   "cell_type": "code",
   "execution_count": 40,
   "metadata": {},
   "outputs": [],
   "source": [
    "import pandas as pd\n",
    "import numpy as np\n",
    "import matplotlib.pyplot as plt"
   ]
  },
  {
   "attachments": {},
   "cell_type": "markdown",
   "metadata": {},
   "source": [
    "## Loading Data"
   ]
  },
  {
   "cell_type": "code",
   "execution_count": 33,
   "metadata": {},
   "outputs": [
    {
     "data": {
      "text/html": [
       "<div>\n",
       "<style scoped>\n",
       "    .dataframe tbody tr th:only-of-type {\n",
       "        vertical-align: middle;\n",
       "    }\n",
       "\n",
       "    .dataframe tbody tr th {\n",
       "        vertical-align: top;\n",
       "    }\n",
       "\n",
       "    .dataframe thead th {\n",
       "        text-align: right;\n",
       "    }\n",
       "</style>\n",
       "<table border=\"1\" class=\"dataframe\">\n",
       "  <thead>\n",
       "    <tr style=\"text-align: right;\">\n",
       "      <th></th>\n",
       "      <th>Class</th>\n",
       "      <th>AGE</th>\n",
       "      <th>FEMALE</th>\n",
       "      <th>STEROID</th>\n",
       "      <th>ANTIVIRALS</th>\n",
       "      <th>FATIGUE</th>\n",
       "      <th>MALAISE</th>\n",
       "      <th>ANOREXIA</th>\n",
       "      <th>BIGLIVER</th>\n",
       "      <th>FIRMLIVER</th>\n",
       "      <th>SPLEENPALPABLE</th>\n",
       "      <th>SPIDERS</th>\n",
       "      <th>ASCITES</th>\n",
       "      <th>VARICES</th>\n",
       "      <th>BILIRUBIN</th>\n",
       "      <th>SGOT</th>\n",
       "      <th>HISTOLOGY</th>\n",
       "    </tr>\n",
       "  </thead>\n",
       "  <tbody>\n",
       "    <tr>\n",
       "      <th>0</th>\n",
       "      <td>live</td>\n",
       "      <td>False</td>\n",
       "      <td>False</td>\n",
       "      <td>True</td>\n",
       "      <td>True</td>\n",
       "      <td>False</td>\n",
       "      <td>False</td>\n",
       "      <td>False</td>\n",
       "      <td>False</td>\n",
       "      <td>False</td>\n",
       "      <td>False</td>\n",
       "      <td>False</td>\n",
       "      <td>True</td>\n",
       "      <td>True</td>\n",
       "      <td>True</td>\n",
       "      <td>False</td>\n",
       "      <td>False</td>\n",
       "    </tr>\n",
       "    <tr>\n",
       "      <th>1</th>\n",
       "      <td>live</td>\n",
       "      <td>True</td>\n",
       "      <td>False</td>\n",
       "      <td>False</td>\n",
       "      <td>True</td>\n",
       "      <td>False</td>\n",
       "      <td>True</td>\n",
       "      <td>True</td>\n",
       "      <td>False</td>\n",
       "      <td>False</td>\n",
       "      <td>True</td>\n",
       "      <td>True</td>\n",
       "      <td>True</td>\n",
       "      <td>True</td>\n",
       "      <td>True</td>\n",
       "      <td>False</td>\n",
       "      <td>False</td>\n",
       "    </tr>\n",
       "  </tbody>\n",
       "</table>\n",
       "</div>"
      ],
      "text/plain": [
       "  Class    AGE  FEMALE  STEROID  ANTIVIRALS  FATIGUE  MALAISE  ANOREXIA  \\\n",
       "0  live  False   False     True        True    False    False     False   \n",
       "1  live   True   False    False        True    False     True      True   \n",
       "\n",
       "   BIGLIVER  FIRMLIVER  SPLEENPALPABLE  SPIDERS  ASCITES  VARICES  BILIRUBIN  \\\n",
       "0     False      False           False    False     True     True       True   \n",
       "1     False      False            True     True     True     True       True   \n",
       "\n",
       "    SGOT  HISTOLOGY  \n",
       "0  False      False  \n",
       "1  False      False  "
      ]
     },
     "metadata": {},
     "output_type": "display_data"
    },
    {
     "data": {
      "text/html": [
       "<div>\n",
       "<style scoped>\n",
       "    .dataframe tbody tr th:only-of-type {\n",
       "        vertical-align: middle;\n",
       "    }\n",
       "\n",
       "    .dataframe tbody tr th {\n",
       "        vertical-align: top;\n",
       "    }\n",
       "\n",
       "    .dataframe thead th {\n",
       "        text-align: right;\n",
       "    }\n",
       "</style>\n",
       "<table border=\"1\" class=\"dataframe\">\n",
       "  <thead>\n",
       "    <tr style=\"text-align: right;\">\n",
       "      <th></th>\n",
       "      <th>Class</th>\n",
       "      <th>AGE</th>\n",
       "      <th>FEMALE</th>\n",
       "      <th>STEROID</th>\n",
       "      <th>ANTIVIRALS</th>\n",
       "      <th>FATIGUE</th>\n",
       "      <th>MALAISE</th>\n",
       "      <th>ANOREXIA</th>\n",
       "      <th>BIGLIVER</th>\n",
       "      <th>FIRMLIVER</th>\n",
       "      <th>SPLEENPALPABLE</th>\n",
       "      <th>SPIDERS</th>\n",
       "      <th>ASCITES</th>\n",
       "      <th>VARICES</th>\n",
       "      <th>BILIRUBIN</th>\n",
       "      <th>SGOT</th>\n",
       "      <th>HISTOLOGY</th>\n",
       "    </tr>\n",
       "  </thead>\n",
       "  <tbody>\n",
       "    <tr>\n",
       "      <th>0</th>\n",
       "      <td>live</td>\n",
       "      <td>True</td>\n",
       "      <td>True</td>\n",
       "      <td>False</td>\n",
       "      <td>True</td>\n",
       "      <td>False</td>\n",
       "      <td>True</td>\n",
       "      <td>True</td>\n",
       "      <td>True</td>\n",
       "      <td>True</td>\n",
       "      <td>False</td>\n",
       "      <td>False</td>\n",
       "      <td>True</td>\n",
       "      <td>False</td>\n",
       "      <td>True</td>\n",
       "      <td>False</td>\n",
       "      <td>True</td>\n",
       "    </tr>\n",
       "    <tr>\n",
       "      <th>1</th>\n",
       "      <td>die</td>\n",
       "      <td>False</td>\n",
       "      <td>False</td>\n",
       "      <td>False</td>\n",
       "      <td>True</td>\n",
       "      <td>False</td>\n",
       "      <td>False</td>\n",
       "      <td>False</td>\n",
       "      <td>True</td>\n",
       "      <td>True</td>\n",
       "      <td>False</td>\n",
       "      <td>False</td>\n",
       "      <td>True</td>\n",
       "      <td>False</td>\n",
       "      <td>True</td>\n",
       "      <td>False</td>\n",
       "      <td>True</td>\n",
       "    </tr>\n",
       "  </tbody>\n",
       "</table>\n",
       "</div>"
      ],
      "text/plain": [
       "  Class    AGE  FEMALE  STEROID  ANTIVIRALS  FATIGUE  MALAISE  ANOREXIA  \\\n",
       "0  live   True    True    False        True    False     True      True   \n",
       "1   die  False   False    False        True    False    False     False   \n",
       "\n",
       "   BIGLIVER  FIRMLIVER  SPLEENPALPABLE  SPIDERS  ASCITES  VARICES  BILIRUBIN  \\\n",
       "0      True       True           False    False     True    False       True   \n",
       "1      True       True           False    False     True    False       True   \n",
       "\n",
       "    SGOT  HISTOLOGY  \n",
       "0  False       True  \n",
       "1  False       True  "
      ]
     },
     "metadata": {},
     "output_type": "display_data"
    },
    {
     "data": {
      "text/html": [
       "<div>\n",
       "<style scoped>\n",
       "    .dataframe tbody tr th:only-of-type {\n",
       "        vertical-align: middle;\n",
       "    }\n",
       "\n",
       "    .dataframe tbody tr th {\n",
       "        vertical-align: top;\n",
       "    }\n",
       "\n",
       "    .dataframe thead th {\n",
       "        text-align: right;\n",
       "    }\n",
       "</style>\n",
       "<table border=\"1\" class=\"dataframe\">\n",
       "  <thead>\n",
       "    <tr style=\"text-align: right;\">\n",
       "      <th></th>\n",
       "      <th>Class</th>\n",
       "      <th>AGE</th>\n",
       "      <th>FEMALE</th>\n",
       "      <th>STEROID</th>\n",
       "      <th>ANTIVIRALS</th>\n",
       "      <th>FATIGUE</th>\n",
       "      <th>MALAISE</th>\n",
       "      <th>ANOREXIA</th>\n",
       "      <th>BIGLIVER</th>\n",
       "      <th>FIRMLIVER</th>\n",
       "      <th>SPLEENPALPABLE</th>\n",
       "      <th>SPIDERS</th>\n",
       "      <th>ASCITES</th>\n",
       "      <th>VARICES</th>\n",
       "      <th>BILIRUBIN</th>\n",
       "      <th>SGOT</th>\n",
       "      <th>HISTOLOGY</th>\n",
       "    </tr>\n",
       "  </thead>\n",
       "  <tbody>\n",
       "    <tr>\n",
       "      <th>0</th>\n",
       "      <td>live</td>\n",
       "      <td>False</td>\n",
       "      <td>False</td>\n",
       "      <td>False</td>\n",
       "      <td>True</td>\n",
       "      <td>False</td>\n",
       "      <td>False</td>\n",
       "      <td>False</td>\n",
       "      <td>True</td>\n",
       "      <td>False</td>\n",
       "      <td>True</td>\n",
       "      <td>True</td>\n",
       "      <td>True</td>\n",
       "      <td>True</td>\n",
       "      <td>True</td>\n",
       "      <td>True</td>\n",
       "      <td>False</td>\n",
       "    </tr>\n",
       "    <tr>\n",
       "      <th>1</th>\n",
       "      <td>die</td>\n",
       "      <td>False</td>\n",
       "      <td>False</td>\n",
       "      <td>False</td>\n",
       "      <td>True</td>\n",
       "      <td>False</td>\n",
       "      <td>False</td>\n",
       "      <td>True</td>\n",
       "      <td>True</td>\n",
       "      <td>True</td>\n",
       "      <td>True</td>\n",
       "      <td>True</td>\n",
       "      <td>False</td>\n",
       "      <td>True</td>\n",
       "      <td>False</td>\n",
       "      <td>False</td>\n",
       "      <td>True</td>\n",
       "    </tr>\n",
       "  </tbody>\n",
       "</table>\n",
       "</div>"
      ],
      "text/plain": [
       "  Class    AGE  FEMALE  STEROID  ANTIVIRALS  FATIGUE  MALAISE  ANOREXIA  \\\n",
       "0  live  False   False    False        True    False    False     False   \n",
       "1   die  False   False    False        True    False    False      True   \n",
       "\n",
       "   BIGLIVER  FIRMLIVER  SPLEENPALPABLE  SPIDERS  ASCITES  VARICES  BILIRUBIN  \\\n",
       "0      True      False            True     True     True     True       True   \n",
       "1      True       True            True     True    False     True      False   \n",
       "\n",
       "    SGOT  HISTOLOGY  \n",
       "0   True      False  \n",
       "1  False       True  "
      ]
     },
     "metadata": {},
     "output_type": "display_data"
    }
   ],
   "source": [
    "hep = pd.read_csv(\"data\\\\part2\\\\hepatitis\", delimiter=\" \")\n",
    "hep_train = pd.read_csv(\"data\\\\part2\\\\hepatitis-test\", delimiter=\" \")\n",
    "hep_test = pd.read_csv(\"data\\\\part2\\\\hepatitis-training\", delimiter=\" \")\n",
    "\n",
    "display(hep.head(2))\n",
    "display(hep_train.head(2))\n",
    "display(hep_test.head(2))"
   ]
  },
  {
   "attachments": {},
   "cell_type": "markdown",
   "metadata": {},
   "source": [
    "## Data Exploration"
   ]
  },
  {
   "attachments": {},
   "cell_type": "markdown",
   "metadata": {},
   "source": [
    "Confirming the even split between train and test datasets."
   ]
  },
  {
   "cell_type": "code",
   "execution_count": 38,
   "metadata": {},
   "outputs": [
    {
     "name": "stdout",
     "output_type": "stream",
     "text": [
      "137 25 112\n"
     ]
    }
   ],
   "source": [
    "print(len(hep), len(hep_train), len(hep_test))"
   ]
  },
  {
   "attachments": {},
   "cell_type": "markdown",
   "metadata": {},
   "source": [
    "No null or NA values in our dataset."
   ]
  },
  {
   "cell_type": "code",
   "execution_count": 44,
   "metadata": {},
   "outputs": [
    {
     "data": {
      "text/plain": [
       "(array([], dtype=int64), array([], dtype=int64))"
      ]
     },
     "metadata": {},
     "output_type": "display_data"
    },
    {
     "data": {
      "text/plain": [
       "(array([], dtype=int64), array([], dtype=int64))"
      ]
     },
     "metadata": {},
     "output_type": "display_data"
    }
   ],
   "source": [
    "# check for missing values\n",
    "display(np.where(pd.isnull(hep)))\n",
    "display(np.where(pd.isna(hep)))"
   ]
  },
  {
   "attachments": {},
   "cell_type": "markdown",
   "metadata": {},
   "source": [
    "The data has loaded in as the correct types, although Class may need to be changed to factor."
   ]
  },
  {
   "cell_type": "code",
   "execution_count": 45,
   "metadata": {},
   "outputs": [
    {
     "name": "stdout",
     "output_type": "stream",
     "text": [
      "Class             object\n",
      "AGE                 bool\n",
      "FEMALE              bool\n",
      "STEROID             bool\n",
      "ANTIVIRALS          bool\n",
      "FATIGUE             bool\n",
      "MALAISE             bool\n",
      "ANOREXIA            bool\n",
      "BIGLIVER            bool\n",
      "FIRMLIVER           bool\n",
      "SPLEENPALPABLE      bool\n",
      "SPIDERS             bool\n",
      "ASCITES             bool\n",
      "VARICES             bool\n",
      "BILIRUBIN           bool\n",
      "SGOT                bool\n",
      "HISTOLOGY           bool\n",
      "dtype: object\n",
      "(137, 17)\n"
     ]
    }
   ],
   "source": [
    "print(hep.dtypes)\n",
    "print(hep.shape)"
   ]
  },
  {
   "attachments": {},
   "cell_type": "markdown",
   "metadata": {},
   "source": [
    "After further investigating class, it is clear this is a binary classification problem."
   ]
  },
  {
   "cell_type": "code",
   "execution_count": 46,
   "metadata": {},
   "outputs": [
    {
     "data": {
      "text/plain": [
       "array(['live', 'die'], dtype=object)"
      ]
     },
     "execution_count": 46,
     "metadata": {},
     "output_type": "execute_result"
    }
   ],
   "source": [
    "hep[\"Class\"].unique()"
   ]
  },
  {
   "cell_type": "code",
   "execution_count": 49,
   "metadata": {},
   "outputs": [
    {
     "data": {
      "text/plain": [
       "CategoricalDtype(categories=['die', 'live'], ordered=False)"
      ]
     },
     "execution_count": 49,
     "metadata": {},
     "output_type": "execute_result"
    }
   ],
   "source": [
    "hep[\"Class\"] = hep[\"Class\"].astype('category')\n",
    "hep[\"Class\"].dtype"
   ]
  },
  {
   "attachments": {},
   "cell_type": "markdown",
   "metadata": {},
   "source": [
    "## Decision Tree Algorithm"
   ]
  },
  {
   "cell_type": "code",
   "execution_count": 157,
   "metadata": {},
   "outputs": [
    {
     "name": "stdout",
     "output_type": "stream",
     "text": [
      "0.8 0.2\n",
      "0.32 0.68\n",
      "0.08 0.92\n",
      "0.6 0.4\n",
      "0.8 0.2\n",
      "0.64 0.36\n",
      "0.64 0.36\n",
      "0.84 0.16\n",
      "0.88 0.12\n",
      "0.72 0.28\n",
      "0.28 0.72\n",
      "0.4 0.6\n",
      "0.92 0.08\n",
      "0.2 0.8\n",
      "0.56 0.44\n",
      "0.72 0.28\n",
      "0.56 0.44\n",
      "[0.16000000000000003, 0.21760000000000002, 0.0736, 0.24, 0.16000000000000003, 0.2304, 0.2304, 0.1344, 0.1056, 0.2016, 0.2016, 0.24, 0.0736, 0.16000000000000003, 0.24640000000000004, 0.2016, 0.24640000000000004]\n",
      "[0.32, 0.4352, 0.14719999999999997, 0.48, 0.32, 0.4608, 0.4608, 0.26880000000000004, 0.2112, 0.4032, 0.4032, 0.48, 0.14719999999999997, 0.32, 0.4928, 0.4032, 0.4928]\n",
      "[0.31999999999999984, 0.4351999999999999, 0.1472, 0.48, 0.31999999999999984, 0.4608, 0.4608, 0.26880000000000015, 0.21120000000000005, 0.4032, 0.4032, 0.48, 0.1472, 0.31999999999999984, 0.4927999999999999, 0.4032, 0.4927999999999999]\n",
      "[0.7219280948873623, 0.9043814577244937, 0.4021791902022728, 0.9709505944546686, 0.7219280948873623, 0.9426831892554922, 0.9426831892554922, 0.6343095546405662, 0.5293608652873644, 0.8554508105601306, 0.8554508105601306, 0.9709505944546686, 0.4021791902022728, 0.7219280948873623, 0.9895875212220556, 0.8554508105601306, 0.9895875212220556]\n"
     ]
    },
    {
     "data": {
      "text/plain": [
       "live    20\n",
       "die      5\n",
       "Name: Class, dtype: int64"
      ]
     },
     "execution_count": 157,
     "metadata": {},
     "output_type": "execute_result"
    }
   ],
   "source": [
    "class DecisionTree:\n",
    "    def __init__(self):\n",
    "        import numpy as np\n",
    "        return None\n",
    "    \n",
    "    def train(self, train_X: pd.DataFrame, train_y: pd.DataFrame):\n",
    "        print([self.__probability_based_impurity(train_X[col]) for col in train_X])\n",
    "        print([self.__gini_impurity1(train_X[col]) for col in train_X])\n",
    "        print([self.__gini_impurity2(train_X[col]) for col in train_X])\n",
    "        print([self.__entropy(train_X[col]) for col in train_X])\n",
    "        \n",
    "        return 0 \n",
    "    \n",
    "    def test(self, test_X):\n",
    "        return 0\n",
    "    \n",
    "    def __build_tree(self, train_X, train_y):\n",
    "        \"\"\"Builds an optimal structured decision tree with decision nodes and leaf nodes.\"\"\"\n",
    "        # to determine the root node, we find the first question with the optimal value\n",
    "        info, question = self.__optimal_question()\n",
    "\n",
    "        return 0\n",
    "    \n",
    "    def __optimal_question(self):\n",
    "        \"\"\"Calculates the impurity and returns the optimal question and information gained from asking a question.\"\"\"\n",
    "        info = 0\n",
    "        question = 0\n",
    "        return info, question\n",
    "    \n",
    "    def __leaf(self, train_y):\n",
    "        \"\"\"Leaf nodes return the predicted class.\"\"\"\n",
    "        return 0\n",
    "    \n",
    "    def __decision_node(self, optimal_question, true_branch, false_branch):\n",
    "        \"\"\"Decision nodes hold the optimal question at this level and two child nodes.\"\"\"\n",
    "        return 0\n",
    "    \n",
    "    def __probability_based_impurity(self, labels):\n",
    "        \"\"\"Calculates the probability based impurity for the given labels.\"\"\"\n",
    "        freq = self.__frequency(labels)\n",
    "        pbi = freq[0]\n",
    "        for i in range(1, len(freq)):\n",
    "            print(freq[i-1], freq[i])\n",
    "            pbi = pbi * freq[i]\n",
    "        return pbi\n",
    "    \n",
    "    def __gini_impurity1(self, labels):\n",
    "        \"\"\"From testing, this version seems to have less precision than option 12.\"\"\"\n",
    "        freq = self.__frequency(labels)\n",
    "        return np.sum([f * (1 - f) for f in freq])\n",
    "    \n",
    "    def __gini_impurity2(self, labels):\n",
    "        \"\"\"Calculates the gini impurity for the given labels.\"\"\"\n",
    "        freq = self.__frequency(labels)\n",
    "        return 1 - np.sum([f ** 2 for f in freq])\n",
    "\n",
    "    def __entropy(self, labels):\n",
    "        \"\"\"Calculates the entropy impurity for the given labels.\"\"\"\n",
    "        freq = self.__frequency(labels)\n",
    "        return -np.sum([f * np.log2(f) for f in freq])\n",
    "    \n",
    "    def __frequency(self, labels: pd.Series):\n",
    "        \"\"\"Returns a list of the frequencies of each label.\"\"\"\n",
    "        return [np.mean(label == labels) for label in labels.unique()]\n",
    "\n",
    "\n",
    "dt = DecisionTree()\n",
    "dt.train(hep_train, hep_test)\n",
    "\n",
    "hep_train[\"Class\"].value_counts()"
   ]
  }
 ],
 "metadata": {
  "kernelspec": {
   "display_name": "Python 3",
   "language": "python",
   "name": "python3"
  },
  "language_info": {
   "codemirror_mode": {
    "name": "ipython",
    "version": 3
   },
   "file_extension": ".py",
   "mimetype": "text/x-python",
   "name": "python",
   "nbconvert_exporter": "python",
   "pygments_lexer": "ipython3",
   "version": "3.11.2"
  },
  "orig_nbformat": 4
 },
 "nbformat": 4,
 "nbformat_minor": 2
}
