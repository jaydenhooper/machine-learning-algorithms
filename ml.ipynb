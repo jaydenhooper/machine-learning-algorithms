{
 "cells": [
  {
   "attachments": {},
   "cell_type": "markdown",
   "metadata": {},
   "source": [
    "## Imports"
   ]
  },
  {
   "cell_type": "code",
   "execution_count": 1,
   "metadata": {},
   "outputs": [],
   "source": [
    "import pandas as pd\n",
    "import numpy as np\n",
    "import matplotlib.pyplot as plt\n",
    "import unittest as ut\n",
    "import math\n",
    "from scipy import stats"
   ]
  },
  {
   "attachments": {},
   "cell_type": "markdown",
   "metadata": {},
   "source": [
    "## Data Loading"
   ]
  },
  {
   "cell_type": "code",
   "execution_count": 2,
   "metadata": {},
   "outputs": [
    {
     "data": {
      "text/html": [
       "<div>\n",
       "<style scoped>\n",
       "    .dataframe tbody tr th:only-of-type {\n",
       "        vertical-align: middle;\n",
       "    }\n",
       "\n",
       "    .dataframe tbody tr th {\n",
       "        vertical-align: top;\n",
       "    }\n",
       "\n",
       "    .dataframe thead th {\n",
       "        text-align: right;\n",
       "    }\n",
       "</style>\n",
       "<table border=\"1\" class=\"dataframe\">\n",
       "  <thead>\n",
       "    <tr style=\"text-align: right;\">\n",
       "      <th></th>\n",
       "      <th>Alcohol</th>\n",
       "      <th>Malic_acid</th>\n",
       "      <th>Ash</th>\n",
       "      <th>Alcalinity_of_ash</th>\n",
       "      <th>Magnesium</th>\n",
       "      <th>Total_phenols</th>\n",
       "      <th>Flavanoids</th>\n",
       "      <th>Nonflavanoid_phenols</th>\n",
       "      <th>Proanthocyanins</th>\n",
       "      <th>Color_intensity</th>\n",
       "      <th>Hue</th>\n",
       "      <th>OD280/OD315_of_diluted_wines</th>\n",
       "      <th>Proline</th>\n",
       "      <th>Class</th>\n",
       "    </tr>\n",
       "  </thead>\n",
       "  <tbody>\n",
       "    <tr>\n",
       "      <th>0</th>\n",
       "      <td>14.37</td>\n",
       "      <td>1.95</td>\n",
       "      <td>2.50</td>\n",
       "      <td>16.8</td>\n",
       "      <td>113.0</td>\n",
       "      <td>3.85</td>\n",
       "      <td>3.49</td>\n",
       "      <td>0.24</td>\n",
       "      <td>2.18</td>\n",
       "      <td>7.80</td>\n",
       "      <td>0.86</td>\n",
       "      <td>3.45</td>\n",
       "      <td>1480.0</td>\n",
       "      <td>1</td>\n",
       "    </tr>\n",
       "    <tr>\n",
       "      <th>1</th>\n",
       "      <td>12.25</td>\n",
       "      <td>1.73</td>\n",
       "      <td>2.12</td>\n",
       "      <td>19.0</td>\n",
       "      <td>80.0</td>\n",
       "      <td>1.65</td>\n",
       "      <td>2.03</td>\n",
       "      <td>0.37</td>\n",
       "      <td>1.63</td>\n",
       "      <td>3.40</td>\n",
       "      <td>1.00</td>\n",
       "      <td>3.17</td>\n",
       "      <td>510.0</td>\n",
       "      <td>2</td>\n",
       "    </tr>\n",
       "    <tr>\n",
       "      <th>2</th>\n",
       "      <td>11.82</td>\n",
       "      <td>1.47</td>\n",
       "      <td>1.99</td>\n",
       "      <td>20.8</td>\n",
       "      <td>86.0</td>\n",
       "      <td>1.98</td>\n",
       "      <td>1.60</td>\n",
       "      <td>0.30</td>\n",
       "      <td>1.53</td>\n",
       "      <td>1.95</td>\n",
       "      <td>0.95</td>\n",
       "      <td>3.33</td>\n",
       "      <td>495.0</td>\n",
       "      <td>2</td>\n",
       "    </tr>\n",
       "    <tr>\n",
       "      <th>3</th>\n",
       "      <td>13.05</td>\n",
       "      <td>2.05</td>\n",
       "      <td>3.22</td>\n",
       "      <td>25.0</td>\n",
       "      <td>124.0</td>\n",
       "      <td>2.63</td>\n",
       "      <td>2.68</td>\n",
       "      <td>0.47</td>\n",
       "      <td>1.92</td>\n",
       "      <td>3.58</td>\n",
       "      <td>1.13</td>\n",
       "      <td>3.20</td>\n",
       "      <td>830.0</td>\n",
       "      <td>1</td>\n",
       "    </tr>\n",
       "    <tr>\n",
       "      <th>4</th>\n",
       "      <td>13.29</td>\n",
       "      <td>1.97</td>\n",
       "      <td>2.68</td>\n",
       "      <td>16.8</td>\n",
       "      <td>102.0</td>\n",
       "      <td>3.00</td>\n",
       "      <td>3.23</td>\n",
       "      <td>0.31</td>\n",
       "      <td>1.66</td>\n",
       "      <td>6.00</td>\n",
       "      <td>1.07</td>\n",
       "      <td>2.84</td>\n",
       "      <td>1270.0</td>\n",
       "      <td>1</td>\n",
       "    </tr>\n",
       "  </tbody>\n",
       "</table>\n",
       "</div>"
      ],
      "text/plain": [
       "   Alcohol  Malic_acid   Ash  Alcalinity_of_ash  Magnesium  Total_phenols  \\\n",
       "0    14.37        1.95  2.50               16.8      113.0           3.85   \n",
       "1    12.25        1.73  2.12               19.0       80.0           1.65   \n",
       "2    11.82        1.47  1.99               20.8       86.0           1.98   \n",
       "3    13.05        2.05  3.22               25.0      124.0           2.63   \n",
       "4    13.29        1.97  2.68               16.8      102.0           3.00   \n",
       "\n",
       "   Flavanoids  Nonflavanoid_phenols  Proanthocyanins  Color_intensity   Hue  \\\n",
       "0        3.49                  0.24             2.18             7.80  0.86   \n",
       "1        2.03                  0.37             1.63             3.40  1.00   \n",
       "2        1.60                  0.30             1.53             1.95  0.95   \n",
       "3        2.68                  0.47             1.92             3.58  1.13   \n",
       "4        3.23                  0.31             1.66             6.00  1.07   \n",
       "\n",
       "   OD280/OD315_of_diluted_wines  Proline  Class  \n",
       "0                          3.45   1480.0      1  \n",
       "1                          3.17    510.0      2  \n",
       "2                          3.33    495.0      2  \n",
       "3                          3.20    830.0      1  \n",
       "4                          2.84   1270.0      1  "
      ]
     },
     "metadata": {},
     "output_type": "display_data"
    },
    {
     "data": {
      "text/html": [
       "<div>\n",
       "<style scoped>\n",
       "    .dataframe tbody tr th:only-of-type {\n",
       "        vertical-align: middle;\n",
       "    }\n",
       "\n",
       "    .dataframe tbody tr th {\n",
       "        vertical-align: top;\n",
       "    }\n",
       "\n",
       "    .dataframe thead th {\n",
       "        text-align: right;\n",
       "    }\n",
       "</style>\n",
       "<table border=\"1\" class=\"dataframe\">\n",
       "  <thead>\n",
       "    <tr style=\"text-align: right;\">\n",
       "      <th></th>\n",
       "      <th>Alcohol</th>\n",
       "      <th>Malic_acid</th>\n",
       "      <th>Ash</th>\n",
       "      <th>Alcalinity_of_ash</th>\n",
       "      <th>Magnesium</th>\n",
       "      <th>Total_phenols</th>\n",
       "      <th>Flavanoids</th>\n",
       "      <th>Nonflavanoid_phenols</th>\n",
       "      <th>Proanthocyanins</th>\n",
       "      <th>Color_intensity</th>\n",
       "      <th>Hue</th>\n",
       "      <th>OD280/OD315_of_diluted_wines</th>\n",
       "      <th>Proline</th>\n",
       "      <th>Class</th>\n",
       "    </tr>\n",
       "  </thead>\n",
       "  <tbody>\n",
       "    <tr>\n",
       "      <th>0</th>\n",
       "      <td>12.70</td>\n",
       "      <td>3.55</td>\n",
       "      <td>2.36</td>\n",
       "      <td>21.5</td>\n",
       "      <td>106.0</td>\n",
       "      <td>1.70</td>\n",
       "      <td>1.20</td>\n",
       "      <td>0.17</td>\n",
       "      <td>0.84</td>\n",
       "      <td>5.00</td>\n",
       "      <td>0.78</td>\n",
       "      <td>1.29</td>\n",
       "      <td>600.0</td>\n",
       "      <td>3</td>\n",
       "    </tr>\n",
       "    <tr>\n",
       "      <th>1</th>\n",
       "      <td>12.20</td>\n",
       "      <td>3.03</td>\n",
       "      <td>2.32</td>\n",
       "      <td>19.0</td>\n",
       "      <td>96.0</td>\n",
       "      <td>1.25</td>\n",
       "      <td>0.49</td>\n",
       "      <td>0.40</td>\n",
       "      <td>0.73</td>\n",
       "      <td>5.50</td>\n",
       "      <td>0.66</td>\n",
       "      <td>1.83</td>\n",
       "      <td>510.0</td>\n",
       "      <td>3</td>\n",
       "    </tr>\n",
       "    <tr>\n",
       "      <th>2</th>\n",
       "      <td>14.13</td>\n",
       "      <td>4.10</td>\n",
       "      <td>2.74</td>\n",
       "      <td>24.5</td>\n",
       "      <td>96.0</td>\n",
       "      <td>2.05</td>\n",
       "      <td>0.76</td>\n",
       "      <td>0.56</td>\n",
       "      <td>1.35</td>\n",
       "      <td>9.20</td>\n",
       "      <td>0.61</td>\n",
       "      <td>1.60</td>\n",
       "      <td>560.0</td>\n",
       "      <td>3</td>\n",
       "    </tr>\n",
       "    <tr>\n",
       "      <th>3</th>\n",
       "      <td>13.05</td>\n",
       "      <td>1.65</td>\n",
       "      <td>2.55</td>\n",
       "      <td>18.0</td>\n",
       "      <td>98.0</td>\n",
       "      <td>2.45</td>\n",
       "      <td>2.43</td>\n",
       "      <td>0.29</td>\n",
       "      <td>1.44</td>\n",
       "      <td>4.25</td>\n",
       "      <td>1.12</td>\n",
       "      <td>2.51</td>\n",
       "      <td>1105.0</td>\n",
       "      <td>1</td>\n",
       "    </tr>\n",
       "    <tr>\n",
       "      <th>4</th>\n",
       "      <td>14.19</td>\n",
       "      <td>1.59</td>\n",
       "      <td>2.48</td>\n",
       "      <td>16.5</td>\n",
       "      <td>108.0</td>\n",
       "      <td>3.30</td>\n",
       "      <td>3.93</td>\n",
       "      <td>0.32</td>\n",
       "      <td>1.86</td>\n",
       "      <td>8.70</td>\n",
       "      <td>1.23</td>\n",
       "      <td>2.82</td>\n",
       "      <td>1680.0</td>\n",
       "      <td>1</td>\n",
       "    </tr>\n",
       "  </tbody>\n",
       "</table>\n",
       "</div>"
      ],
      "text/plain": [
       "   Alcohol  Malic_acid   Ash  Alcalinity_of_ash  Magnesium  Total_phenols  \\\n",
       "0    12.70        3.55  2.36               21.5      106.0           1.70   \n",
       "1    12.20        3.03  2.32               19.0       96.0           1.25   \n",
       "2    14.13        4.10  2.74               24.5       96.0           2.05   \n",
       "3    13.05        1.65  2.55               18.0       98.0           2.45   \n",
       "4    14.19        1.59  2.48               16.5      108.0           3.30   \n",
       "\n",
       "   Flavanoids  Nonflavanoid_phenols  Proanthocyanins  Color_intensity   Hue  \\\n",
       "0        1.20                  0.17             0.84             5.00  0.78   \n",
       "1        0.49                  0.40             0.73             5.50  0.66   \n",
       "2        0.76                  0.56             1.35             9.20  0.61   \n",
       "3        2.43                  0.29             1.44             4.25  1.12   \n",
       "4        3.93                  0.32             1.86             8.70  1.23   \n",
       "\n",
       "   OD280/OD315_of_diluted_wines  Proline  Class  \n",
       "0                          1.29    600.0      3  \n",
       "1                          1.83    510.0      3  \n",
       "2                          1.60    560.0      3  \n",
       "3                          2.51   1105.0      1  \n",
       "4                          2.82   1680.0      1  "
      ]
     },
     "metadata": {},
     "output_type": "display_data"
    }
   ],
   "source": [
    "wine_train = pd.read_csv(\"data/part1/wine-training\", delimiter=\" \")\n",
    "wine_test = pd.read_csv(\"data/part1/wine-test\", delimiter=\" \")\n",
    "\n",
    "# check it's loaded in correctly\n",
    "display(wine_train.head())\n",
    "display(wine_test.head())"
   ]
  },
  {
   "attachments": {},
   "cell_type": "markdown",
   "metadata": {},
   "source": [
    "## Data Exploration \n",
    "\n",
    "Lets try to understand our data first."
   ]
  },
  {
   "attachments": {},
   "cell_type": "markdown",
   "metadata": {},
   "source": [
    "No missing values."
   ]
  },
  {
   "cell_type": "code",
   "execution_count": 3,
   "metadata": {},
   "outputs": [
    {
     "data": {
      "text/plain": [
       "(array([], dtype=int64), array([], dtype=int64))"
      ]
     },
     "metadata": {},
     "output_type": "display_data"
    },
    {
     "data": {
      "text/plain": [
       "(array([], dtype=int64), array([], dtype=int64))"
      ]
     },
     "metadata": {},
     "output_type": "display_data"
    },
    {
     "data": {
      "text/plain": [
       "(array([], dtype=int64), array([], dtype=int64))"
      ]
     },
     "metadata": {},
     "output_type": "display_data"
    },
    {
     "data": {
      "text/plain": [
       "(array([], dtype=int64), array([], dtype=int64))"
      ]
     },
     "metadata": {},
     "output_type": "display_data"
    }
   ],
   "source": [
    "# check for missing values\n",
    "display(np.where(pd.isnull(wine_train)))\n",
    "display(np.where(pd.isnull(wine_test)))\n",
    "display(np.where(pd.isna(wine_train)))\n",
    "display(np.where(pd.isna(wine_test)))"
   ]
  },
  {
   "attachments": {},
   "cell_type": "markdown",
   "metadata": {},
   "source": [
    "Data Questions:\n",
    "* I'm unsure what 'Class' represents here.\n",
    "* We have 14 features, I thought we only had 13?"
   ]
  },
  {
   "cell_type": "code",
   "execution_count": 4,
   "metadata": {},
   "outputs": [
    {
     "name": "stdout",
     "output_type": "stream",
     "text": [
      "Alcohol                         float64\n",
      "Malic_acid                      float64\n",
      "Ash                             float64\n",
      "Alcalinity_of_ash               float64\n",
      "Magnesium                       float64\n",
      "Total_phenols                   float64\n",
      "Flavanoids                      float64\n",
      "Nonflavanoid_phenols            float64\n",
      "Proanthocyanins                 float64\n",
      "Color_intensity                 float64\n",
      "Hue                             float64\n",
      "OD280/OD315_of_diluted_wines    float64\n",
      "Proline                         float64\n",
      "Class                             int64\n",
      "dtype: object\n",
      "(89, 14)\n"
     ]
    }
   ],
   "source": [
    "# check data types\n",
    "print(wine_train.dtypes)\n",
    "print(wine_train.shape)"
   ]
  },
  {
   "attachments": {},
   "cell_type": "markdown",
   "metadata": {},
   "source": [
    "After checking the data further, I have found\n",
    "* 'Class' is which type of wine it is, which we can treat like a nominal datatype.\n",
    "* 'Class' is the extra attribute."
   ]
  },
  {
   "attachments": {},
   "cell_type": "markdown",
   "metadata": {},
   "source": [
    "There are only 3 classes in our dataset"
   ]
  },
  {
   "cell_type": "code",
   "execution_count": 5,
   "metadata": {},
   "outputs": [
    {
     "data": {
      "text/plain": [
       "array([1, 2, 3], dtype=int64)"
      ]
     },
     "execution_count": 5,
     "metadata": {},
     "output_type": "execute_result"
    }
   ],
   "source": [
    "wine_train['Class'].unique()"
   ]
  },
  {
   "attachments": {},
   "cell_type": "markdown",
   "metadata": {},
   "source": [
    "## Implement KNN"
   ]
  },
  {
   "attachments": {},
   "cell_type": "markdown",
   "metadata": {},
   "source": [
    "The heart of how KNN works by checking the closest k nodes with each feature.\n",
    "* Use Euclidean distance to calculate the space between multiple dimensions using the following algorithm taken from https://en.wikipedia.org/wiki/Euclidean_distance    \n",
    "$$ d(p,q) = \\sqrt{\\frac{(p_1 - q_1)^2}{max(p) - min(p)} + \\frac{(p_2 - q_2)^2}{max(p) - min(p)} + ... + \\frac{(p_n - q_n)^2}{max(p) - min(p)}} $$"
   ]
  },
  {
   "cell_type": "code",
   "execution_count": 6,
   "metadata": {},
   "outputs": [],
   "source": [
    "class KNN:\n",
    "    def __init__(self, n_neighbours):\n",
    "        import numpy as np\n",
    "        from scipy import stats\n",
    "        self.n_neighbours = n_neighbours\n",
    "\n",
    "    def train(self, X: pd.DataFrame, y: pd.Series):\n",
    "        self.X = X\n",
    "        self.y = y\n",
    "        self.max_min = self.__max_min(X)\n",
    "        return self\n",
    "    \n",
    "    def test(self, X_test: pd.DataFrame):\n",
    "        \"\"\"Returns the classified nodes in a list.\"\"\"\n",
    "        self.classified = [self.__classify(X_test.iloc[row]) for row in range(len(X_test))]\n",
    "        return self.classified\n",
    "    \n",
    "    def __max_min(self, p: pd.DataFrame) -> list[float]:\n",
    "        \"\"\"Calculates the difference between the max and min of each predictor variable.\"\"\"\n",
    "        self.max_min: list[float] = [(max(p[x]) - min(p[x])) ** 2 for x in p]\n",
    "        return self.max_min   \n",
    "    \n",
    "    def __euclidean(self, ob1: pd.Series, ob2: pd.Series) -> list[float]:\n",
    "        \"\"\"Calculates the normalized euclidean distance between all of the features of two observations.\"\"\"\n",
    "        return [(ob1[i] - ob2[i])**2 for i in range(len(ob1))] \n",
    "    \n",
    "    def __normalized_euclidean(self, ob1: pd.Series, ob2: pd.Series):\n",
    "        \"\"\"Uses the __euclidean function and __max_min function to calculate the normalized euclidean distance between two observations\"\"\"\n",
    "        return np.sqrt(sum(pd.Series(self.__euclidean(ob1, ob2)) / pd.Series(self.max_min)))\n",
    "    \n",
    "    def __classify(self, X_test: pd.Series) -> int:\n",
    "        \"\"\"Calculate the normalized euclidean distance between each row in X_train and a single X_test row, then sort it with the n closest neighbours and classify.\"\"\"\n",
    "        norm_dist = [self.__normalized_euclidean(self.X.iloc[i], X_test) for i in range(len(self.X))]\n",
    "        sorted_norm_dist = np.sort(norm_dist)[:self.n_neighbours]\n",
    "        # find where the min k normalized distances are\n",
    "        locs = [np.where(norm_dist == i) for i in sorted_norm_dist]\n",
    "        # use these locations to find the corresponding class\n",
    "        classes = [self.y[i[0][0]] for i in locs]\n",
    "        # return the majority class\n",
    "        return stats.mode(classes, keepdims = False)[0]\n",
    "    \n",
    "    def accuracy(self, y_test):\n",
    "        \"\"\"heck if classified nodes are correct\"\"\"\n",
    "        return np.mean(self.classified == y_test)\n",
    "    \n",
    "    def confusion(self, y_test):\n",
    "        width = len(y_test.unique())\n",
    "        matrix = np.zeros((width, width))  # row, col - i = true, j = pred\n",
    "        for i in range(len(self.classified)):\n",
    "            matrix[y_test[i]-1][self.classified[i]-1] = matrix[y_test[i]-1][self.classified[i]-1] + 1\n",
    "        self.confusion = matrix # type: ignore\n",
    "        return self.confusion"
   ]
  },
  {
   "attachments": {},
   "cell_type": "markdown",
   "metadata": {},
   "source": [
    "## Evaluation\n",
    "We get an accuracy of 94.38% (2dp) and 95.51% from our KNN model with 1 neighbour and with 3 neighbours respectively.\n",
    "From our confusion matrix, we can see:\n",
    "* All of the 2nd class was correctly identified. \n",
    "* Our model incorrectly interpreted 2 data points from class 1 as class 2.\n",
    "* Incorrectly interpreted 3 data points from class 3 as class 2.\n",
    "\n",
    "There appears to be a small amount of bias to class 2.\n",
    "\n",
    "Our line plot shows us that the optimal values of K between 1 to 9 inclusive are 3, 7, 8 and 9 with the highest accuracy."
   ]
  },
  {
   "cell_type": "code",
   "execution_count": 13,
   "metadata": {},
   "outputs": [
    {
     "data": {
      "image/png": "[encoded data removed]",
      "text/plain": [
       "<Figure size 640x480 with 1 Axes>"
      ]
     },
     "metadata": {},
     "output_type": "display_data"
    }
   ],
   "source": [
    "X_train = wine_train.drop(\"Class\", axis = 1)\n",
    "y_train = wine_train[\"Class\"]\n",
    "X_test  = wine_test.drop(\"Class\", axis = 1)\n",
    "y_test  = wine_test[\"Class\"]    \n",
    "\n",
    "accuracy = []\n",
    "n = 10\n",
    "for i in range(1, n):\n",
    "    myKNN = KNN(i)\n",
    "    pred_X = myKNN.train(X_train, y_train).test(X_test)\n",
    "    accuracy.append(np.mean(pred_X == y_test))\n",
    "plt.plot(range(1, n), accuracy)\n",
    "plt.title(\"Accuracy against k_neighbours\")\n",
    "plt.ylabel(\"Accuracy\")\n",
    "plt.xlabel(\"k_neighbours\")\n",
    "plt.show()"
   ]
  },
  {
   "cell_type": "code",
   "execution_count": 17,
   "metadata": {},
   "outputs": [
    {
     "name": "stdout",
     "output_type": "stream",
     "text": [
      "0.9438202247191011\n",
      "[[30.  0.  0.]\n",
      " [ 3. 30.  2.]\n",
      " [ 0.  0. 24.]]\n",
      "[3, 3, 3, 1, 1, 1, 1, 2, 1, 2, 2, 3, 3, 3, 1, 2, 3, 3, 1, 1, 3, 2, 2, 3, 2, 3, 2, 3, 2, 1, 2, 1, 2, 1, 2, 2, 2, 2, 2, 1, 2, 2, 3, 1, 2, 1, 3, 2, 2, 1, 3, 1, 1, 3, 3, 1, 1, 3, 1, 3, 3, 1, 2, 3, 2, 3, 3, 1, 1, 2, 1, 3, 2, 2, 1, 1, 1, 3, 1, 1, 2, 2, 3, 1, 2, 1, 1, 2, 1]\n"
     ]
    }
   ],
   "source": [
    "myKNN = KNN(1)\n",
    "pred_y = myKNN.train(X_train, y_train).test(X_test)\n",
    "print(myKNN.accuracy(y_test))\n",
    "print(myKNN.confusion(y_test))\n",
    "print(pred_y)"
   ]
  },
  {
   "cell_type": "code",
   "execution_count": 16,
   "metadata": {},
   "outputs": [
    {
     "name": "stdout",
     "output_type": "stream",
     "text": [
      "0.9550561797752809\n",
      "[[30.  0.  0.]\n",
      " [ 1. 31.  3.]\n",
      " [ 0.  0. 24.]]\n",
      "[3, 3, 3, 1, 1, 1, 2, 2, 1, 2, 3, 3, 3, 3, 1, 2, 3, 3, 1, 1, 3, 2, 2, 3, 2, 3, 2, 3, 2, 1, 2, 1, 2, 1, 2, 2, 2, 2, 2, 1, 2, 2, 3, 1, 2, 1, 3, 2, 2, 1, 3, 1, 1, 3, 3, 1, 1, 3, 1, 3, 3, 1, 2, 3, 2, 3, 3, 1, 1, 2, 2, 3, 2, 2, 1, 1, 1, 3, 1, 1, 2, 2, 3, 1, 2, 1, 1, 2, 1]\n"
     ]
    }
   ],
   "source": [
    "myKNN = KNN(3)\n",
    "pred_y = myKNN.train(X_train, y_train).test(X_test)\n",
    "print(myKNN.accuracy(y_test))\n",
    "print(myKNN.confusion(y_test))\n",
    "print(pred_y)"
   ]
  }
 ],
 "metadata": {
  "kernelspec": {
   "display_name": "Python 3",
   "language": "python",
   "name": "python3"
  },
  "language_info": {
   "codemirror_mode": {
    "name": "ipython",
    "version": 3
   },
   "file_extension": ".py",
   "mimetype": "text/x-python",
   "name": "python",
   "nbconvert_exporter": "python",
   "pygments_lexer": "ipython3",
   "version": "3.11.2"
  },
  "orig_nbformat": 4
 },
 "nbformat": 4,
 "nbformat_minor": 2
}
